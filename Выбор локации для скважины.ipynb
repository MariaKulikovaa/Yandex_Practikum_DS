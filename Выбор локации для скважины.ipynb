{
 "cells": [
  {
   "cell_type": "markdown",
   "metadata": {},
   "source": [
    "# Выбор локации для скважины"
   ]
  },
  {
   "cell_type": "markdown",
   "metadata": {},
   "source": [
    "Являясь сотрудником добывающей компании «ГлавРосГосНефть», нужно решить, где бурить новую скважину.\n",
    "\n",
    "Нам предоставлены пробы нефти в трёх регионах: в каждом 10 000 месторождений, где измерили качество нефти и объём её запасов. Необходимо построить модель машинного обучения, которая поможет определить регион, где добыча принесёт наибольшую прибыль. Необходимо проанализировать возможную прибыль и риски техникой *Bootstrap.*\n",
    "\n",
    "Шаги для выбора локации:\n",
    "\n",
    "- В избранном регионе ищут месторождения, для каждого определяют значения признаков;\n",
    "- Строят модель и оценивают объём запасов;\n",
    "- Выбирают месторождения с самым высокими оценками значений. Количество месторождений зависит от бюджета компании и стоимости разработки одной скважины;\n",
    "- Прибыль равна суммарной прибыли отобранных месторождений."
   ]
  },
  {
   "cell_type": "markdown",
   "metadata": {},
   "source": [
    "## Загрузка и подготовка данных"
   ]
  },
  {
   "cell_type": "code",
   "execution_count": 2,
   "metadata": {},
   "outputs": [],
   "source": [
    "import pandas as pd\n",
    "from sklearn.model_selection import train_test_split\n",
    "from sklearn.linear_model import LinearRegression\n",
    "from sklearn.metrics import mean_squared_error\n",
    "import numpy as np\n",
    "import matplotlib.pyplot as plt"
   ]
  },
  {
   "cell_type": "code",
   "execution_count": 4,
   "metadata": {},
   "outputs": [
    {
     "data": {
      "text/html": [
       "<div>\n",
       "<style scoped>\n",
       "    .dataframe tbody tr th:only-of-type {\n",
       "        vertical-align: middle;\n",
       "    }\n",
       "\n",
       "    .dataframe tbody tr th {\n",
       "        vertical-align: top;\n",
       "    }\n",
       "\n",
       "    .dataframe thead th {\n",
       "        text-align: right;\n",
       "    }\n",
       "</style>\n",
       "<table border=\"1\" class=\"dataframe\">\n",
       "  <thead>\n",
       "    <tr style=\"text-align: right;\">\n",
       "      <th></th>\n",
       "      <th>date</th>\n",
       "      <th>final.output.concentrate_ag</th>\n",
       "      <th>final.output.concentrate_pb</th>\n",
       "      <th>final.output.concentrate_sol</th>\n",
       "      <th>final.output.concentrate_au</th>\n",
       "      <th>final.output.recovery</th>\n",
       "      <th>final.output.tail_ag</th>\n",
       "      <th>final.output.tail_pb</th>\n",
       "      <th>final.output.tail_sol</th>\n",
       "      <th>final.output.tail_au</th>\n",
       "      <th>...</th>\n",
       "      <th>secondary_cleaner.state.floatbank4_a_air</th>\n",
       "      <th>secondary_cleaner.state.floatbank4_a_level</th>\n",
       "      <th>secondary_cleaner.state.floatbank4_b_air</th>\n",
       "      <th>secondary_cleaner.state.floatbank4_b_level</th>\n",
       "      <th>secondary_cleaner.state.floatbank5_a_air</th>\n",
       "      <th>secondary_cleaner.state.floatbank5_a_level</th>\n",
       "      <th>secondary_cleaner.state.floatbank5_b_air</th>\n",
       "      <th>secondary_cleaner.state.floatbank5_b_level</th>\n",
       "      <th>secondary_cleaner.state.floatbank6_a_air</th>\n",
       "      <th>secondary_cleaner.state.floatbank6_a_level</th>\n",
       "    </tr>\n",
       "  </thead>\n",
       "  <tbody>\n",
       "    <tr>\n",
       "      <th>0</th>\n",
       "      <td>2016-01-15 00:00:00</td>\n",
       "      <td>6.055403</td>\n",
       "      <td>9.889648</td>\n",
       "      <td>5.507324</td>\n",
       "      <td>42.192020</td>\n",
       "      <td>70.541216</td>\n",
       "      <td>10.411962</td>\n",
       "      <td>0.895447</td>\n",
       "      <td>16.904297</td>\n",
       "      <td>2.143149</td>\n",
       "      <td>...</td>\n",
       "      <td>14.016835</td>\n",
       "      <td>-502.488007</td>\n",
       "      <td>12.099931</td>\n",
       "      <td>-504.715942</td>\n",
       "      <td>9.925633</td>\n",
       "      <td>-498.310211</td>\n",
       "      <td>8.079666</td>\n",
       "      <td>-500.470978</td>\n",
       "      <td>14.151341</td>\n",
       "      <td>-605.841980</td>\n",
       "    </tr>\n",
       "    <tr>\n",
       "      <th>1</th>\n",
       "      <td>2016-01-15 01:00:00</td>\n",
       "      <td>6.029369</td>\n",
       "      <td>9.968944</td>\n",
       "      <td>5.257781</td>\n",
       "      <td>42.701629</td>\n",
       "      <td>69.266198</td>\n",
       "      <td>10.462676</td>\n",
       "      <td>0.927452</td>\n",
       "      <td>16.634514</td>\n",
       "      <td>2.224930</td>\n",
       "      <td>...</td>\n",
       "      <td>13.992281</td>\n",
       "      <td>-505.503262</td>\n",
       "      <td>11.950531</td>\n",
       "      <td>-501.331529</td>\n",
       "      <td>10.039245</td>\n",
       "      <td>-500.169983</td>\n",
       "      <td>7.984757</td>\n",
       "      <td>-500.582168</td>\n",
       "      <td>13.998353</td>\n",
       "      <td>-599.787184</td>\n",
       "    </tr>\n",
       "    <tr>\n",
       "      <th>2</th>\n",
       "      <td>2016-01-15 02:00:00</td>\n",
       "      <td>6.055926</td>\n",
       "      <td>10.213995</td>\n",
       "      <td>5.383759</td>\n",
       "      <td>42.657501</td>\n",
       "      <td>68.116445</td>\n",
       "      <td>10.507046</td>\n",
       "      <td>0.953716</td>\n",
       "      <td>16.208849</td>\n",
       "      <td>2.257889</td>\n",
       "      <td>...</td>\n",
       "      <td>14.015015</td>\n",
       "      <td>-502.520901</td>\n",
       "      <td>11.912783</td>\n",
       "      <td>-501.133383</td>\n",
       "      <td>10.070913</td>\n",
       "      <td>-500.129135</td>\n",
       "      <td>8.013877</td>\n",
       "      <td>-500.517572</td>\n",
       "      <td>14.028663</td>\n",
       "      <td>-601.427363</td>\n",
       "    </tr>\n",
       "    <tr>\n",
       "      <th>3</th>\n",
       "      <td>2016-01-15 03:00:00</td>\n",
       "      <td>6.047977</td>\n",
       "      <td>9.977019</td>\n",
       "      <td>4.858634</td>\n",
       "      <td>42.689819</td>\n",
       "      <td>68.347543</td>\n",
       "      <td>10.422762</td>\n",
       "      <td>0.883763</td>\n",
       "      <td>16.532835</td>\n",
       "      <td>2.146849</td>\n",
       "      <td>...</td>\n",
       "      <td>14.036510</td>\n",
       "      <td>-500.857308</td>\n",
       "      <td>11.999550</td>\n",
       "      <td>-501.193686</td>\n",
       "      <td>9.970366</td>\n",
       "      <td>-499.201640</td>\n",
       "      <td>7.977324</td>\n",
       "      <td>-500.255908</td>\n",
       "      <td>14.005551</td>\n",
       "      <td>-599.996129</td>\n",
       "    </tr>\n",
       "    <tr>\n",
       "      <th>4</th>\n",
       "      <td>2016-01-15 04:00:00</td>\n",
       "      <td>6.148599</td>\n",
       "      <td>10.142511</td>\n",
       "      <td>4.939416</td>\n",
       "      <td>42.774141</td>\n",
       "      <td>66.927016</td>\n",
       "      <td>10.360302</td>\n",
       "      <td>0.792826</td>\n",
       "      <td>16.525686</td>\n",
       "      <td>2.055292</td>\n",
       "      <td>...</td>\n",
       "      <td>14.027298</td>\n",
       "      <td>-499.838632</td>\n",
       "      <td>11.953070</td>\n",
       "      <td>-501.053894</td>\n",
       "      <td>9.925709</td>\n",
       "      <td>-501.686727</td>\n",
       "      <td>7.894242</td>\n",
       "      <td>-500.356035</td>\n",
       "      <td>13.996647</td>\n",
       "      <td>-601.496691</td>\n",
       "    </tr>\n",
       "  </tbody>\n",
       "</table>\n",
       "<p>5 rows × 87 columns</p>\n",
       "</div>"
      ],
      "text/plain": [
       "                  date  final.output.concentrate_ag  \\\n",
       "0  2016-01-15 00:00:00                     6.055403   \n",
       "1  2016-01-15 01:00:00                     6.029369   \n",
       "2  2016-01-15 02:00:00                     6.055926   \n",
       "3  2016-01-15 03:00:00                     6.047977   \n",
       "4  2016-01-15 04:00:00                     6.148599   \n",
       "\n",
       "   final.output.concentrate_pb  final.output.concentrate_sol  \\\n",
       "0                     9.889648                      5.507324   \n",
       "1                     9.968944                      5.257781   \n",
       "2                    10.213995                      5.383759   \n",
       "3                     9.977019                      4.858634   \n",
       "4                    10.142511                      4.939416   \n",
       "\n",
       "   final.output.concentrate_au  final.output.recovery  final.output.tail_ag  \\\n",
       "0                    42.192020              70.541216             10.411962   \n",
       "1                    42.701629              69.266198             10.462676   \n",
       "2                    42.657501              68.116445             10.507046   \n",
       "3                    42.689819              68.347543             10.422762   \n",
       "4                    42.774141              66.927016             10.360302   \n",
       "\n",
       "   final.output.tail_pb  final.output.tail_sol  final.output.tail_au  ...  \\\n",
       "0              0.895447              16.904297              2.143149  ...   \n",
       "1              0.927452              16.634514              2.224930  ...   \n",
       "2              0.953716              16.208849              2.257889  ...   \n",
       "3              0.883763              16.532835              2.146849  ...   \n",
       "4              0.792826              16.525686              2.055292  ...   \n",
       "\n",
       "   secondary_cleaner.state.floatbank4_a_air  \\\n",
       "0                                 14.016835   \n",
       "1                                 13.992281   \n",
       "2                                 14.015015   \n",
       "3                                 14.036510   \n",
       "4                                 14.027298   \n",
       "\n",
       "   secondary_cleaner.state.floatbank4_a_level  \\\n",
       "0                                 -502.488007   \n",
       "1                                 -505.503262   \n",
       "2                                 -502.520901   \n",
       "3                                 -500.857308   \n",
       "4                                 -499.838632   \n",
       "\n",
       "   secondary_cleaner.state.floatbank4_b_air  \\\n",
       "0                                 12.099931   \n",
       "1                                 11.950531   \n",
       "2                                 11.912783   \n",
       "3                                 11.999550   \n",
       "4                                 11.953070   \n",
       "\n",
       "   secondary_cleaner.state.floatbank4_b_level  \\\n",
       "0                                 -504.715942   \n",
       "1                                 -501.331529   \n",
       "2                                 -501.133383   \n",
       "3                                 -501.193686   \n",
       "4                                 -501.053894   \n",
       "\n",
       "   secondary_cleaner.state.floatbank5_a_air  \\\n",
       "0                                  9.925633   \n",
       "1                                 10.039245   \n",
       "2                                 10.070913   \n",
       "3                                  9.970366   \n",
       "4                                  9.925709   \n",
       "\n",
       "   secondary_cleaner.state.floatbank5_a_level  \\\n",
       "0                                 -498.310211   \n",
       "1                                 -500.169983   \n",
       "2                                 -500.129135   \n",
       "3                                 -499.201640   \n",
       "4                                 -501.686727   \n",
       "\n",
       "   secondary_cleaner.state.floatbank5_b_air  \\\n",
       "0                                  8.079666   \n",
       "1                                  7.984757   \n",
       "2                                  8.013877   \n",
       "3                                  7.977324   \n",
       "4                                  7.894242   \n",
       "\n",
       "   secondary_cleaner.state.floatbank5_b_level  \\\n",
       "0                                 -500.470978   \n",
       "1                                 -500.582168   \n",
       "2                                 -500.517572   \n",
       "3                                 -500.255908   \n",
       "4                                 -500.356035   \n",
       "\n",
       "   secondary_cleaner.state.floatbank6_a_air  \\\n",
       "0                                 14.151341   \n",
       "1                                 13.998353   \n",
       "2                                 14.028663   \n",
       "3                                 14.005551   \n",
       "4                                 13.996647   \n",
       "\n",
       "   secondary_cleaner.state.floatbank6_a_level  \n",
       "0                                 -605.841980  \n",
       "1                                 -599.787184  \n",
       "2                                 -601.427363  \n",
       "3                                 -599.996129  \n",
       "4                                 -601.496691  \n",
       "\n",
       "[5 rows x 87 columns]"
      ]
     },
     "execution_count": 4,
     "metadata": {},
     "output_type": "execute_result"
    }
   ],
   "source": [
    "data1 = pd.read_csv('/datasets/gold_recovery_train_new.csv')\n",
    "data1.head()"
   ]
  },
  {
   "cell_type": "code",
   "execution_count": 3,
   "metadata": {},
   "outputs": [
    {
     "data": {
      "text/html": [
       "<div>\n",
       "<style scoped>\n",
       "    .dataframe tbody tr th:only-of-type {\n",
       "        vertical-align: middle;\n",
       "    }\n",
       "\n",
       "    .dataframe tbody tr th {\n",
       "        vertical-align: top;\n",
       "    }\n",
       "\n",
       "    .dataframe thead th {\n",
       "        text-align: right;\n",
       "    }\n",
       "</style>\n",
       "<table border=\"1\" class=\"dataframe\">\n",
       "  <thead>\n",
       "    <tr style=\"text-align: right;\">\n",
       "      <th></th>\n",
       "      <th>id</th>\n",
       "      <th>f0</th>\n",
       "      <th>f1</th>\n",
       "      <th>f2</th>\n",
       "      <th>product</th>\n",
       "    </tr>\n",
       "  </thead>\n",
       "  <tbody>\n",
       "    <tr>\n",
       "      <th>0</th>\n",
       "      <td>kBEdx</td>\n",
       "      <td>-15.001348</td>\n",
       "      <td>-8.276000</td>\n",
       "      <td>-0.005876</td>\n",
       "      <td>3.179103</td>\n",
       "    </tr>\n",
       "    <tr>\n",
       "      <th>1</th>\n",
       "      <td>62mP7</td>\n",
       "      <td>14.272088</td>\n",
       "      <td>-3.475083</td>\n",
       "      <td>0.999183</td>\n",
       "      <td>26.953261</td>\n",
       "    </tr>\n",
       "    <tr>\n",
       "      <th>2</th>\n",
       "      <td>vyE1P</td>\n",
       "      <td>6.263187</td>\n",
       "      <td>-5.948386</td>\n",
       "      <td>5.001160</td>\n",
       "      <td>134.766305</td>\n",
       "    </tr>\n",
       "    <tr>\n",
       "      <th>3</th>\n",
       "      <td>KcrkZ</td>\n",
       "      <td>-13.081196</td>\n",
       "      <td>-11.506057</td>\n",
       "      <td>4.999415</td>\n",
       "      <td>137.945408</td>\n",
       "    </tr>\n",
       "    <tr>\n",
       "      <th>4</th>\n",
       "      <td>AHL4O</td>\n",
       "      <td>12.702195</td>\n",
       "      <td>-8.147433</td>\n",
       "      <td>5.004363</td>\n",
       "      <td>134.766305</td>\n",
       "    </tr>\n",
       "  </tbody>\n",
       "</table>\n",
       "</div>"
      ],
      "text/plain": [
       "      id         f0         f1        f2     product\n",
       "0  kBEdx -15.001348  -8.276000 -0.005876    3.179103\n",
       "1  62mP7  14.272088  -3.475083  0.999183   26.953261\n",
       "2  vyE1P   6.263187  -5.948386  5.001160  134.766305\n",
       "3  KcrkZ -13.081196 -11.506057  4.999415  137.945408\n",
       "4  AHL4O  12.702195  -8.147433  5.004363  134.766305"
      ]
     },
     "execution_count": 3,
     "metadata": {},
     "output_type": "execute_result"
    }
   ],
   "source": [
    "data2 = pd.read_csv('/datasets/geo_data_1.csv')\n",
    "data2.head()"
   ]
  },
  {
   "cell_type": "code",
   "execution_count": 4,
   "metadata": {},
   "outputs": [
    {
     "data": {
      "text/html": [
       "<div>\n",
       "<style scoped>\n",
       "    .dataframe tbody tr th:only-of-type {\n",
       "        vertical-align: middle;\n",
       "    }\n",
       "\n",
       "    .dataframe tbody tr th {\n",
       "        vertical-align: top;\n",
       "    }\n",
       "\n",
       "    .dataframe thead th {\n",
       "        text-align: right;\n",
       "    }\n",
       "</style>\n",
       "<table border=\"1\" class=\"dataframe\">\n",
       "  <thead>\n",
       "    <tr style=\"text-align: right;\">\n",
       "      <th></th>\n",
       "      <th>id</th>\n",
       "      <th>f0</th>\n",
       "      <th>f1</th>\n",
       "      <th>f2</th>\n",
       "      <th>product</th>\n",
       "    </tr>\n",
       "  </thead>\n",
       "  <tbody>\n",
       "    <tr>\n",
       "      <th>0</th>\n",
       "      <td>fwXo0</td>\n",
       "      <td>-1.146987</td>\n",
       "      <td>0.963328</td>\n",
       "      <td>-0.828965</td>\n",
       "      <td>27.758673</td>\n",
       "    </tr>\n",
       "    <tr>\n",
       "      <th>1</th>\n",
       "      <td>WJtFt</td>\n",
       "      <td>0.262778</td>\n",
       "      <td>0.269839</td>\n",
       "      <td>-2.530187</td>\n",
       "      <td>56.069697</td>\n",
       "    </tr>\n",
       "    <tr>\n",
       "      <th>2</th>\n",
       "      <td>ovLUW</td>\n",
       "      <td>0.194587</td>\n",
       "      <td>0.289035</td>\n",
       "      <td>-5.586433</td>\n",
       "      <td>62.871910</td>\n",
       "    </tr>\n",
       "    <tr>\n",
       "      <th>3</th>\n",
       "      <td>q6cA6</td>\n",
       "      <td>2.236060</td>\n",
       "      <td>-0.553760</td>\n",
       "      <td>0.930038</td>\n",
       "      <td>114.572842</td>\n",
       "    </tr>\n",
       "    <tr>\n",
       "      <th>4</th>\n",
       "      <td>WPMUX</td>\n",
       "      <td>-0.515993</td>\n",
       "      <td>1.716266</td>\n",
       "      <td>5.899011</td>\n",
       "      <td>149.600746</td>\n",
       "    </tr>\n",
       "  </tbody>\n",
       "</table>\n",
       "</div>"
      ],
      "text/plain": [
       "      id        f0        f1        f2     product\n",
       "0  fwXo0 -1.146987  0.963328 -0.828965   27.758673\n",
       "1  WJtFt  0.262778  0.269839 -2.530187   56.069697\n",
       "2  ovLUW  0.194587  0.289035 -5.586433   62.871910\n",
       "3  q6cA6  2.236060 -0.553760  0.930038  114.572842\n",
       "4  WPMUX -0.515993  1.716266  5.899011  149.600746"
      ]
     },
     "execution_count": 4,
     "metadata": {},
     "output_type": "execute_result"
    }
   ],
   "source": [
    "data3 = pd.read_csv('/datasets/geo_data_2.csv')\n",
    "data3.head()"
   ]
  },
  {
   "cell_type": "code",
   "execution_count": 5,
   "metadata": {},
   "outputs": [
    {
     "name": "stdout",
     "output_type": "stream",
     "text": [
      "<class 'pandas.core.frame.DataFrame'>\n",
      "RangeIndex: 100000 entries, 0 to 99999\n",
      "Data columns (total 5 columns):\n",
      " #   Column   Non-Null Count   Dtype  \n",
      "---  ------   --------------   -----  \n",
      " 0   id       100000 non-null  object \n",
      " 1   f0       100000 non-null  float64\n",
      " 2   f1       100000 non-null  float64\n",
      " 3   f2       100000 non-null  float64\n",
      " 4   product  100000 non-null  float64\n",
      "dtypes: float64(4), object(1)\n",
      "memory usage: 3.8+ MB\n",
      "<class 'pandas.core.frame.DataFrame'>\n",
      "RangeIndex: 100000 entries, 0 to 99999\n",
      "Data columns (total 5 columns):\n",
      " #   Column   Non-Null Count   Dtype  \n",
      "---  ------   --------------   -----  \n",
      " 0   id       100000 non-null  object \n",
      " 1   f0       100000 non-null  float64\n",
      " 2   f1       100000 non-null  float64\n",
      " 3   f2       100000 non-null  float64\n",
      " 4   product  100000 non-null  float64\n",
      "dtypes: float64(4), object(1)\n",
      "memory usage: 3.8+ MB\n",
      "<class 'pandas.core.frame.DataFrame'>\n",
      "RangeIndex: 100000 entries, 0 to 99999\n",
      "Data columns (total 5 columns):\n",
      " #   Column   Non-Null Count   Dtype  \n",
      "---  ------   --------------   -----  \n",
      " 0   id       100000 non-null  object \n",
      " 1   f0       100000 non-null  float64\n",
      " 2   f1       100000 non-null  float64\n",
      " 3   f2       100000 non-null  float64\n",
      " 4   product  100000 non-null  float64\n",
      "dtypes: float64(4), object(1)\n",
      "memory usage: 3.8+ MB\n"
     ]
    }
   ],
   "source": [
    "data1.info()\n",
    "data2.info()\n",
    "data3.info()"
   ]
  },
  {
   "cell_type": "markdown",
   "metadata": {},
   "source": [
    "Посмотрим, есть ли дубликаты:"
   ]
  },
  {
   "cell_type": "code",
   "execution_count": 6,
   "metadata": {},
   "outputs": [
    {
     "data": {
      "text/html": [
       "<div>\n",
       "<style scoped>\n",
       "    .dataframe tbody tr th:only-of-type {\n",
       "        vertical-align: middle;\n",
       "    }\n",
       "\n",
       "    .dataframe tbody tr th {\n",
       "        vertical-align: top;\n",
       "    }\n",
       "\n",
       "    .dataframe thead th {\n",
       "        text-align: right;\n",
       "    }\n",
       "</style>\n",
       "<table border=\"1\" class=\"dataframe\">\n",
       "  <thead>\n",
       "    <tr style=\"text-align: right;\">\n",
       "      <th></th>\n",
       "      <th>id</th>\n",
       "      <th>f0</th>\n",
       "      <th>f1</th>\n",
       "      <th>f2</th>\n",
       "      <th>product</th>\n",
       "    </tr>\n",
       "  </thead>\n",
       "  <tbody>\n",
       "  </tbody>\n",
       "</table>\n",
       "</div>"
      ],
      "text/plain": [
       "Empty DataFrame\n",
       "Columns: [id, f0, f1, f2, product]\n",
       "Index: []"
      ]
     },
     "execution_count": 6,
     "metadata": {},
     "output_type": "execute_result"
    }
   ],
   "source": [
    "data1[data1.duplicated()==True]"
   ]
  },
  {
   "cell_type": "code",
   "execution_count": 7,
   "metadata": {},
   "outputs": [
    {
     "data": {
      "text/html": [
       "<div>\n",
       "<style scoped>\n",
       "    .dataframe tbody tr th:only-of-type {\n",
       "        vertical-align: middle;\n",
       "    }\n",
       "\n",
       "    .dataframe tbody tr th {\n",
       "        vertical-align: top;\n",
       "    }\n",
       "\n",
       "    .dataframe thead th {\n",
       "        text-align: right;\n",
       "    }\n",
       "</style>\n",
       "<table border=\"1\" class=\"dataframe\">\n",
       "  <thead>\n",
       "    <tr style=\"text-align: right;\">\n",
       "      <th></th>\n",
       "      <th>id</th>\n",
       "      <th>f0</th>\n",
       "      <th>f1</th>\n",
       "      <th>f2</th>\n",
       "      <th>product</th>\n",
       "    </tr>\n",
       "  </thead>\n",
       "  <tbody>\n",
       "  </tbody>\n",
       "</table>\n",
       "</div>"
      ],
      "text/plain": [
       "Empty DataFrame\n",
       "Columns: [id, f0, f1, f2, product]\n",
       "Index: []"
      ]
     },
     "execution_count": 7,
     "metadata": {},
     "output_type": "execute_result"
    }
   ],
   "source": [
    "data2[data2.duplicated()==True]"
   ]
  },
  {
   "cell_type": "code",
   "execution_count": 8,
   "metadata": {},
   "outputs": [
    {
     "data": {
      "text/html": [
       "<div>\n",
       "<style scoped>\n",
       "    .dataframe tbody tr th:only-of-type {\n",
       "        vertical-align: middle;\n",
       "    }\n",
       "\n",
       "    .dataframe tbody tr th {\n",
       "        vertical-align: top;\n",
       "    }\n",
       "\n",
       "    .dataframe thead th {\n",
       "        text-align: right;\n",
       "    }\n",
       "</style>\n",
       "<table border=\"1\" class=\"dataframe\">\n",
       "  <thead>\n",
       "    <tr style=\"text-align: right;\">\n",
       "      <th></th>\n",
       "      <th>id</th>\n",
       "      <th>f0</th>\n",
       "      <th>f1</th>\n",
       "      <th>f2</th>\n",
       "      <th>product</th>\n",
       "    </tr>\n",
       "  </thead>\n",
       "  <tbody>\n",
       "  </tbody>\n",
       "</table>\n",
       "</div>"
      ],
      "text/plain": [
       "Empty DataFrame\n",
       "Columns: [id, f0, f1, f2, product]\n",
       "Index: []"
      ]
     },
     "execution_count": 8,
     "metadata": {},
     "output_type": "execute_result"
    }
   ],
   "source": [
    "data3[data3.duplicated()==True]"
   ]
  },
  {
   "cell_type": "markdown",
   "metadata": {},
   "source": [
    "Дубликатов нет, данные чистые, без пропусков, имеют рабочий тип данных, поэтому, можно приступать к анализу."
   ]
  },
  {
   "cell_type": "code",
   "execution_count": 9,
   "metadata": {},
   "outputs": [
    {
     "data": {
      "text/html": [
       "<div>\n",
       "<style scoped>\n",
       "    .dataframe tbody tr th:only-of-type {\n",
       "        vertical-align: middle;\n",
       "    }\n",
       "\n",
       "    .dataframe tbody tr th {\n",
       "        vertical-align: top;\n",
       "    }\n",
       "\n",
       "    .dataframe thead th {\n",
       "        text-align: right;\n",
       "    }\n",
       "</style>\n",
       "<table border=\"1\" class=\"dataframe\">\n",
       "  <thead>\n",
       "    <tr style=\"text-align: right;\">\n",
       "      <th></th>\n",
       "      <th>id</th>\n",
       "      <th>f0</th>\n",
       "      <th>f1</th>\n",
       "      <th>f2</th>\n",
       "      <th>product</th>\n",
       "    </tr>\n",
       "  </thead>\n",
       "  <tbody>\n",
       "    <tr>\n",
       "      <th>7530</th>\n",
       "      <td>HZww2</td>\n",
       "      <td>1.061194</td>\n",
       "      <td>-0.373969</td>\n",
       "      <td>10.430210</td>\n",
       "      <td>158.828695</td>\n",
       "    </tr>\n",
       "    <tr>\n",
       "      <th>41724</th>\n",
       "      <td>bxg6G</td>\n",
       "      <td>-0.823752</td>\n",
       "      <td>0.546319</td>\n",
       "      <td>3.630479</td>\n",
       "      <td>93.007798</td>\n",
       "    </tr>\n",
       "    <tr>\n",
       "      <th>51970</th>\n",
       "      <td>A5aEY</td>\n",
       "      <td>-0.180335</td>\n",
       "      <td>0.935548</td>\n",
       "      <td>-2.094773</td>\n",
       "      <td>33.020205</td>\n",
       "    </tr>\n",
       "    <tr>\n",
       "      <th>63593</th>\n",
       "      <td>QcMuo</td>\n",
       "      <td>0.635635</td>\n",
       "      <td>-0.473422</td>\n",
       "      <td>0.862670</td>\n",
       "      <td>64.578675</td>\n",
       "    </tr>\n",
       "    <tr>\n",
       "      <th>66136</th>\n",
       "      <td>74z30</td>\n",
       "      <td>1.084962</td>\n",
       "      <td>-0.312358</td>\n",
       "      <td>6.990771</td>\n",
       "      <td>127.643327</td>\n",
       "    </tr>\n",
       "    <tr>\n",
       "      <th>69163</th>\n",
       "      <td>AGS9W</td>\n",
       "      <td>-0.933795</td>\n",
       "      <td>0.116194</td>\n",
       "      <td>-3.655896</td>\n",
       "      <td>19.230453</td>\n",
       "    </tr>\n",
       "    <tr>\n",
       "      <th>75715</th>\n",
       "      <td>Tdehs</td>\n",
       "      <td>0.112079</td>\n",
       "      <td>0.430296</td>\n",
       "      <td>3.218993</td>\n",
       "      <td>60.964018</td>\n",
       "    </tr>\n",
       "    <tr>\n",
       "      <th>90815</th>\n",
       "      <td>fiKDv</td>\n",
       "      <td>0.049883</td>\n",
       "      <td>0.841313</td>\n",
       "      <td>6.394613</td>\n",
       "      <td>137.346586</td>\n",
       "    </tr>\n",
       "    <tr>\n",
       "      <th>92341</th>\n",
       "      <td>TtcGQ</td>\n",
       "      <td>0.110711</td>\n",
       "      <td>1.022689</td>\n",
       "      <td>0.911381</td>\n",
       "      <td>101.318008</td>\n",
       "    </tr>\n",
       "    <tr>\n",
       "      <th>97785</th>\n",
       "      <td>bsk9y</td>\n",
       "      <td>0.378429</td>\n",
       "      <td>0.005837</td>\n",
       "      <td>0.160827</td>\n",
       "      <td>160.637302</td>\n",
       "    </tr>\n",
       "  </tbody>\n",
       "</table>\n",
       "</div>"
      ],
      "text/plain": [
       "          id        f0        f1         f2     product\n",
       "7530   HZww2  1.061194 -0.373969  10.430210  158.828695\n",
       "41724  bxg6G -0.823752  0.546319   3.630479   93.007798\n",
       "51970  A5aEY -0.180335  0.935548  -2.094773   33.020205\n",
       "63593  QcMuo  0.635635 -0.473422   0.862670   64.578675\n",
       "66136  74z30  1.084962 -0.312358   6.990771  127.643327\n",
       "69163  AGS9W -0.933795  0.116194  -3.655896   19.230453\n",
       "75715  Tdehs  0.112079  0.430296   3.218993   60.964018\n",
       "90815  fiKDv  0.049883  0.841313   6.394613  137.346586\n",
       "92341  TtcGQ  0.110711  1.022689   0.911381  101.318008\n",
       "97785  bsk9y  0.378429  0.005837   0.160827  160.637302"
      ]
     },
     "execution_count": 9,
     "metadata": {},
     "output_type": "execute_result"
    }
   ],
   "source": [
    "data1[data1.duplicated('id')]"
   ]
  },
  {
   "cell_type": "code",
   "execution_count": 10,
   "metadata": {},
   "outputs": [
    {
     "data": {
      "text/html": [
       "<div>\n",
       "<style scoped>\n",
       "    .dataframe tbody tr th:only-of-type {\n",
       "        vertical-align: middle;\n",
       "    }\n",
       "\n",
       "    .dataframe tbody tr th {\n",
       "        vertical-align: top;\n",
       "    }\n",
       "\n",
       "    .dataframe thead th {\n",
       "        text-align: right;\n",
       "    }\n",
       "</style>\n",
       "<table border=\"1\" class=\"dataframe\">\n",
       "  <thead>\n",
       "    <tr style=\"text-align: right;\">\n",
       "      <th></th>\n",
       "      <th>id</th>\n",
       "      <th>f0</th>\n",
       "      <th>f1</th>\n",
       "      <th>f2</th>\n",
       "      <th>product</th>\n",
       "    </tr>\n",
       "  </thead>\n",
       "  <tbody>\n",
       "    <tr>\n",
       "      <th>931</th>\n",
       "      <td>HZww2</td>\n",
       "      <td>0.755284</td>\n",
       "      <td>0.368511</td>\n",
       "      <td>1.863211</td>\n",
       "      <td>30.681774</td>\n",
       "    </tr>\n",
       "    <tr>\n",
       "      <th>7530</th>\n",
       "      <td>HZww2</td>\n",
       "      <td>1.061194</td>\n",
       "      <td>-0.373969</td>\n",
       "      <td>10.430210</td>\n",
       "      <td>158.828695</td>\n",
       "    </tr>\n",
       "  </tbody>\n",
       "</table>\n",
       "</div>"
      ],
      "text/plain": [
       "         id        f0        f1         f2     product\n",
       "931   HZww2  0.755284  0.368511   1.863211   30.681774\n",
       "7530  HZww2  1.061194 -0.373969  10.430210  158.828695"
      ]
     },
     "execution_count": 10,
     "metadata": {},
     "output_type": "execute_result"
    }
   ],
   "source": [
    "data1[data1['id']=='HZww2']"
   ]
  },
  {
   "cell_type": "code",
   "execution_count": 11,
   "metadata": {
    "scrolled": true
   },
   "outputs": [
    {
     "data": {
      "text/html": [
       "<div>\n",
       "<style scoped>\n",
       "    .dataframe tbody tr th:only-of-type {\n",
       "        vertical-align: middle;\n",
       "    }\n",
       "\n",
       "    .dataframe tbody tr th {\n",
       "        vertical-align: top;\n",
       "    }\n",
       "\n",
       "    .dataframe thead th {\n",
       "        text-align: right;\n",
       "    }\n",
       "</style>\n",
       "<table border=\"1\" class=\"dataframe\">\n",
       "  <thead>\n",
       "    <tr style=\"text-align: right;\">\n",
       "      <th></th>\n",
       "      <th>id</th>\n",
       "      <th>f0</th>\n",
       "      <th>f1</th>\n",
       "      <th>f2</th>\n",
       "      <th>product</th>\n",
       "    </tr>\n",
       "  </thead>\n",
       "  <tbody>\n",
       "    <tr>\n",
       "      <th>41906</th>\n",
       "      <td>LHZR0</td>\n",
       "      <td>-8.989672</td>\n",
       "      <td>-4.286607</td>\n",
       "      <td>2.009139</td>\n",
       "      <td>57.085625</td>\n",
       "    </tr>\n",
       "    <tr>\n",
       "      <th>82178</th>\n",
       "      <td>bfPNe</td>\n",
       "      <td>-6.202799</td>\n",
       "      <td>-4.820045</td>\n",
       "      <td>2.995107</td>\n",
       "      <td>84.038886</td>\n",
       "    </tr>\n",
       "    <tr>\n",
       "      <th>82873</th>\n",
       "      <td>wt4Uk</td>\n",
       "      <td>10.259972</td>\n",
       "      <td>-9.376355</td>\n",
       "      <td>4.994297</td>\n",
       "      <td>134.766305</td>\n",
       "    </tr>\n",
       "    <tr>\n",
       "      <th>84461</th>\n",
       "      <td>5ltQ6</td>\n",
       "      <td>18.213839</td>\n",
       "      <td>2.191999</td>\n",
       "      <td>3.993869</td>\n",
       "      <td>107.813044</td>\n",
       "    </tr>\n",
       "  </tbody>\n",
       "</table>\n",
       "</div>"
      ],
      "text/plain": [
       "          id         f0        f1        f2     product\n",
       "41906  LHZR0  -8.989672 -4.286607  2.009139   57.085625\n",
       "82178  bfPNe  -6.202799 -4.820045  2.995107   84.038886\n",
       "82873  wt4Uk  10.259972 -9.376355  4.994297  134.766305\n",
       "84461  5ltQ6  18.213839  2.191999  3.993869  107.813044"
      ]
     },
     "execution_count": 11,
     "metadata": {},
     "output_type": "execute_result"
    }
   ],
   "source": [
    "data2[data2.duplicated('id')]"
   ]
  },
  {
   "cell_type": "code",
   "execution_count": 12,
   "metadata": {
    "scrolled": true
   },
   "outputs": [
    {
     "data": {
      "text/html": [
       "<div>\n",
       "<style scoped>\n",
       "    .dataframe tbody tr th:only-of-type {\n",
       "        vertical-align: middle;\n",
       "    }\n",
       "\n",
       "    .dataframe tbody tr th {\n",
       "        vertical-align: top;\n",
       "    }\n",
       "\n",
       "    .dataframe thead th {\n",
       "        text-align: right;\n",
       "    }\n",
       "</style>\n",
       "<table border=\"1\" class=\"dataframe\">\n",
       "  <thead>\n",
       "    <tr style=\"text-align: right;\">\n",
       "      <th></th>\n",
       "      <th>id</th>\n",
       "      <th>f0</th>\n",
       "      <th>f1</th>\n",
       "      <th>f2</th>\n",
       "      <th>product</th>\n",
       "    </tr>\n",
       "  </thead>\n",
       "  <tbody>\n",
       "    <tr>\n",
       "      <th>43233</th>\n",
       "      <td>xCHr8</td>\n",
       "      <td>-0.847066</td>\n",
       "      <td>2.101796</td>\n",
       "      <td>5.597130</td>\n",
       "      <td>184.388641</td>\n",
       "    </tr>\n",
       "    <tr>\n",
       "      <th>49564</th>\n",
       "      <td>VF7Jo</td>\n",
       "      <td>-0.883115</td>\n",
       "      <td>0.560537</td>\n",
       "      <td>0.723601</td>\n",
       "      <td>136.233420</td>\n",
       "    </tr>\n",
       "    <tr>\n",
       "      <th>55967</th>\n",
       "      <td>KUPhW</td>\n",
       "      <td>1.211150</td>\n",
       "      <td>3.176408</td>\n",
       "      <td>5.543540</td>\n",
       "      <td>132.831802</td>\n",
       "    </tr>\n",
       "    <tr>\n",
       "      <th>95090</th>\n",
       "      <td>Vcm5J</td>\n",
       "      <td>2.587702</td>\n",
       "      <td>1.986875</td>\n",
       "      <td>2.482245</td>\n",
       "      <td>92.327572</td>\n",
       "    </tr>\n",
       "  </tbody>\n",
       "</table>\n",
       "</div>"
      ],
      "text/plain": [
       "          id        f0        f1        f2     product\n",
       "43233  xCHr8 -0.847066  2.101796  5.597130  184.388641\n",
       "49564  VF7Jo -0.883115  0.560537  0.723601  136.233420\n",
       "55967  KUPhW  1.211150  3.176408  5.543540  132.831802\n",
       "95090  Vcm5J  2.587702  1.986875  2.482245   92.327572"
      ]
     },
     "execution_count": 12,
     "metadata": {},
     "output_type": "execute_result"
    }
   ],
   "source": [
    "data3[data3.duplicated('id')]"
   ]
  },
  {
   "cell_type": "markdown",
   "metadata": {},
   "source": [
    "data1.plot(x='id', y='product', kind='scatter', grid=True, alpha=0.03)\n",
    "data1['product'].hist(bins = 10, figsize = (15,3), range = (0,250))"
   ]
  },
  {
   "cell_type": "markdown",
   "metadata": {},
   "source": [
    "## Обучение и проверка модели"
   ]
  },
  {
   "cell_type": "markdown",
   "metadata": {},
   "source": [
    "Удалим ненужный столбец для исследования id и разделим каждый датафрейм на признаки и целевые признаки:"
   ]
  },
  {
   "cell_type": "code",
   "execution_count": 13,
   "metadata": {},
   "outputs": [],
   "source": [
    "data1.drop(columns = ['id'],axis = 1, inplace=True)\n",
    "data2.drop(columns = ['id'],axis = 1, inplace=True)\n",
    "data3.drop(columns = ['id'],axis = 1, inplace=True)\n",
    "\n",
    "features1 = data1.drop(['product'], axis=1)\n",
    "target1 = data1['product']\n",
    "features_train1, features_valid1, target_train1, target_valid1 = train_test_split(\\\n",
    "    features1, target1, test_size=0.25, random_state=12345)\n",
    "\n",
    "features2 = data2.drop(['product'], axis=1)\n",
    "target2 = data2['product']\n",
    "features_train2, features_valid2, target_train2, target_valid2 = train_test_split(\\\n",
    "    features2, target2, test_size=0.25, random_state=12345)\n",
    "\n",
    "features3 = data3.drop(['product'], axis=1)\n",
    "target3 = data3['product']\n",
    "features_train3, features_valid3, target_train3, target_valid3 = train_test_split(\\\n",
    "    features3, target3, test_size=0.25, random_state=12345)"
   ]
  },
  {
   "cell_type": "markdown",
   "metadata": {},
   "source": [
    "Обучим модели LinearRegression и сделаем предсказания:"
   ]
  },
  {
   "cell_type": "code",
   "execution_count": 14,
   "metadata": {},
   "outputs": [
    {
     "name": "stdout",
     "output_type": "stream",
     "text": [
      "Cредний запас предсказанного сырья: 92.59256778438035\n",
      "RMSE модели линейной регрессии на валидационной выборке: 37.5794217150813\n"
     ]
    }
   ],
   "source": [
    "model = LinearRegression()\n",
    "model.fit(features_train1, target_train1)\n",
    "predictions_valid1 = model.predict(features_valid1)\n",
    "result1 = mean_squared_error(target_valid1, predictions_valid1) ** 0.5\n",
    "predictions_mean1 = predictions_valid1.mean()\n",
    "print(\"Cредний запас предсказанного сырья:\", predictions_mean1)\n",
    "print(\"RMSE модели линейной регрессии на валидационной выборке:\", result1)"
   ]
  },
  {
   "cell_type": "code",
   "execution_count": 15,
   "metadata": {},
   "outputs": [
    {
     "name": "stdout",
     "output_type": "stream",
     "text": [
      "Cредний запас предсказанного сырья: 68.728546895446\n",
      "RMSE модели линейной регрессии на валидационной выборке: 0.893099286775617\n"
     ]
    }
   ],
   "source": [
    "model.fit(features_train2, target_train2)\n",
    "predictions_valid2 = model.predict(features_valid2)\n",
    "result2 = mean_squared_error(target_valid2, predictions_valid2) ** 0.5\n",
    "predictions_mean2 = predictions_valid2.mean()\n",
    "print(\"Cредний запас предсказанного сырья:\", predictions_mean2)\n",
    "print(\"RMSE модели линейной регрессии на валидационной выборке:\", result2)"
   ]
  },
  {
   "cell_type": "code",
   "execution_count": 16,
   "metadata": {},
   "outputs": [
    {
     "name": "stdout",
     "output_type": "stream",
     "text": [
      "Cредний запас предсказанного сырья: 94.96504596800489\n",
      "RMSE модели линейной регрессии на валидационной выборке: 40.02970873393434\n"
     ]
    }
   ],
   "source": [
    "model.fit(features_train3, target_train3)\n",
    "predictions_valid3 = model.predict(features_valid3)\n",
    "result3 = mean_squared_error(target_valid3, predictions_valid3) ** 0.5\n",
    "predictions_mean3 = predictions_valid3.mean()\n",
    "print(\"Cредний запас предсказанного сырья:\", predictions_mean3)\n",
    "print(\"RMSE модели линейной регрессии на валидационной выборке:\", result3)"
   ]
  },
  {
   "cell_type": "markdown",
   "metadata": {},
   "source": [
    "Cредний запас предсказанного сырья наиболее высокий у моделей 1 и 3, во второй модели гораздо ниже. Но RMSE второй модели самая низкая, что говорит о том, что кол-во ошибок достаточно мало."
   ]
  },
  {
   "cell_type": "markdown",
   "metadata": {},
   "source": [
    "## Подготовка к расчёту прибыли"
   ]
  },
  {
   "cell_type": "markdown",
   "metadata": {},
   "source": [
    "Выпишем данные из условия задачи и сохраним в переменные:"
   ]
  },
  {
   "cell_type": "code",
   "execution_count": 17,
   "metadata": {},
   "outputs": [
    {
     "name": "stdout",
     "output_type": "stream",
     "text": [
      "111.11111111111111\n"
     ]
    }
   ],
   "source": [
    "BUDGET = 10_000_000_000 #Бюджет на разработку скважин в регионе — 10 млрд рублей.\n",
    "PRICE_BARREL = 450_000 #При нынешних ценах один баррель сырья приносит 450 рублей дохода. \n",
    "#Доход с каждой единицы продукта составляет 450 тыс. рублей, поскольку объём указан в тысячах баррелей.\n",
    "VOLUME_BARREL = BUDGET / PRICE_BARREL / 200 #объем добычи, необходимый для безубыточного производства в регионе\n",
    "print(VOLUME_BARREL)"
   ]
  },
  {
   "cell_type": "markdown",
   "metadata": {},
   "source": [
    "Итак, для того, чтобы освоить бюджет, необходимо добывать не менее 111 тыс баррелей c одной точки. Средний запас сырья на 1 точке, рассчитанный выше для трех моделей: 93, 69 и 95 тыс баррелей. Соответственно, по 1 и 3 точке средние значения более близки к этому значению, но недостаточны. Логичнее подобрать точки с самими высокими запасами и работатать на них."
   ]
  },
  {
   "cell_type": "code",
   "execution_count": 18,
   "metadata": {},
   "outputs": [
    {
     "data": {
      "text/plain": [
       "92.50000000000001"
      ]
     },
     "execution_count": 18,
     "metadata": {},
     "output_type": "execute_result"
    }
   ],
   "source": [
    "data1['product'].mean()"
   ]
  },
  {
   "cell_type": "code",
   "execution_count": 19,
   "metadata": {},
   "outputs": [
    {
     "data": {
      "text/plain": [
       "68.82500000000002"
      ]
     },
     "execution_count": 19,
     "metadata": {},
     "output_type": "execute_result"
    }
   ],
   "source": [
    "data2['product'].mean()"
   ]
  },
  {
   "cell_type": "code",
   "execution_count": 20,
   "metadata": {},
   "outputs": [
    {
     "data": {
      "text/plain": [
       "95.00000000000004"
      ]
     },
     "execution_count": 20,
     "metadata": {},
     "output_type": "execute_result"
    }
   ],
   "source": [
    "data3['product'].mean()"
   ]
  },
  {
   "cell_type": "markdown",
   "metadata": {},
   "source": [
    "## Расчёт прибыли и рисков "
   ]
  },
  {
   "cell_type": "markdown",
   "metadata": {},
   "source": [
    "Создадим функцию по расчету прибыли:"
   ]
  },
  {
   "cell_type": "code",
   "execution_count": 21,
   "metadata": {},
   "outputs": [],
   "source": [
    "def profit(target, probabilities, count):\n",
    "    probs_sorted = pd.Series(probabilities, index=target.index).sort_values(ascending=False)\n",
    "    target_sorted = target[probs_sorted.index]\n",
    "    summa = target_sorted[:count].sum()\n",
    "    profit_region = (summa * PRICE_BARREL) - BUDGET\n",
    "    return profit_region"
   ]
  },
  {
   "cell_type": "markdown",
   "metadata": {},
   "source": [
    "Проведем исследование средней прибыли, рисков по каждому отдельно региону:"
   ]
  },
  {
   "cell_type": "code",
   "execution_count": 22,
   "metadata": {},
   "outputs": [
    {
     "name": "stdout",
     "output_type": "stream",
     "text": [
      "Данные по первому региону:\n",
      "Средняя прибыль: 425938527\n",
      "Доверительный интервал:[ -102090095 : 947976353 ]\n",
      "Риск: 0.06\n"
     ]
    }
   ],
   "source": [
    "state = np.random.RandomState(12345)\n",
    "predictions_valid1 = pd.Series(predictions_valid1, index=target_valid1.index)\n",
    "values = []\n",
    "for i in range(1000):\n",
    "    target_subsample = target_valid1.sample(n=500, replace=True, random_state=state)\n",
    "    probs_subsample = predictions_valid1[target_subsample.index]\n",
    "    values.append(profit(target_subsample, probs_subsample, count=200))\n",
    "\n",
    "values = pd.Series(values)\n",
    "\n",
    "lost=0  \n",
    "for i in values:\n",
    "    if i < 0:\n",
    "        lost +=1\n",
    "lower = values.quantile(0.025)\n",
    "upper = values.quantile(0.975)\n",
    "mean = values.mean()\n",
    "risk = lost/1000\n",
    "print(\"Данные по первому региону:\")\n",
    "print(\"Средняя прибыль:\", round(mean))\n",
    "print('Доверительный интервал:[',round(lower),':', round(upper),']')\n",
    "print('Риск:', risk)"
   ]
  },
  {
   "cell_type": "code",
   "execution_count": 23,
   "metadata": {},
   "outputs": [
    {
     "name": "stdout",
     "output_type": "stream",
     "text": [
      "Данные по второму региону:\n",
      "Средняя прибыль: 518259494\n",
      "Доверительный интервал:[ 128123231 : 953612982 ]\n",
      "Риск: 0.003\n"
     ]
    }
   ],
   "source": [
    "predictions_valid2 = pd.Series(predictions_valid2, index=target_valid2.index)\n",
    "values = []\n",
    "for i in range(1000):\n",
    "    target_subsample = target_valid2.sample(n=500, replace=True, random_state=state)\n",
    "    probs_subsample = predictions_valid2[target_subsample.index]\n",
    "    values.append(profit(target_subsample, probs_subsample, count=200))\n",
    "\n",
    "values = pd.Series(values)\n",
    "\n",
    "lost=0  \n",
    "for i in values:\n",
    "    if i < 0:\n",
    "        lost +=1\n",
    "lower = values.quantile(0.025)\n",
    "upper = values.quantile(0.975)\n",
    "mean = values.mean()\n",
    "risk = lost/1000\n",
    "print(\"Данные по второму региону:\")\n",
    "print(\"Средняя прибыль:\", round(mean))\n",
    "print('Доверительный интервал:[',round(lower),':', round(upper),']')\n",
    "print('Риск:', risk)"
   ]
  },
  {
   "cell_type": "code",
   "execution_count": 24,
   "metadata": {},
   "outputs": [
    {
     "name": "stdout",
     "output_type": "stream",
     "text": [
      "Данные по третьему региону:\n",
      "Средняя прибыль: 420194005\n",
      "Доверительный интервал:[ -115852609 : 989629940 ]\n",
      "Риск: 0.062\n"
     ]
    }
   ],
   "source": [
    "predictions_valid3 = pd.Series(predictions_valid3, index=target_valid3.index)\n",
    "values = []\n",
    "for i in range(1000):\n",
    "    target_subsample = target_valid3.sample(n=500, replace=True, random_state=state)\n",
    "    probs_subsample = predictions_valid3[target_subsample.index]\n",
    "    values.append(profit(target_subsample, probs_subsample, count=200))\n",
    "\n",
    "values = pd.Series(values)\n",
    "\n",
    "lost=0  \n",
    "for i in values:\n",
    "    if i < 0:\n",
    "        lost +=1\n",
    "lower = values.quantile(0.025)\n",
    "upper = values.quantile(0.975)\n",
    "mean = values.mean()\n",
    "risk = lost/1000\n",
    "print(\"Данные по третьему региону:\")\n",
    "print(\"Средняя прибыль:\", round(mean))\n",
    "print('Доверительный интервал:[',round(lower),':', round(upper),']')\n",
    "print('Риск:', risk)"
   ]
  },
  {
   "cell_type": "markdown",
   "metadata": {},
   "source": [
    "Как видим, самая высокая прибыль по 2 региону 518 млн.руб. и ниже риски, чем по остальным регионам, поэтому целесообразно выбрать для добычи 2 регион."
   ]
  },
  {
   "cell_type": "code",
   "execution_count": null,
   "metadata": {},
   "outputs": [],
   "source": []
  }
 ],
 "metadata": {
  "ExecuteTimeLog": [
   {
    "duration": 440,
    "start_time": "2022-12-19T19:06:33.258Z"
   },
   {
    "duration": 506,
    "start_time": "2022-12-19T19:06:48.476Z"
   },
   {
    "duration": 601,
    "start_time": "2022-12-19T19:07:33.299Z"
   },
   {
    "duration": 575,
    "start_time": "2022-12-19T19:07:36.028Z"
   },
   {
    "duration": 129,
    "start_time": "2022-12-19T19:07:49.511Z"
   },
   {
    "duration": 123,
    "start_time": "2022-12-19T19:07:53.851Z"
   },
   {
    "duration": 123,
    "start_time": "2022-12-19T19:08:02.343Z"
   },
   {
    "duration": 122,
    "start_time": "2022-12-19T19:08:10.401Z"
   },
   {
    "duration": 15,
    "start_time": "2022-12-19T19:08:25.648Z"
   },
   {
    "duration": 21,
    "start_time": "2022-12-19T19:08:40.510Z"
   },
   {
    "duration": 31,
    "start_time": "2022-12-19T19:08:58.499Z"
   },
   {
    "duration": 497,
    "start_time": "2022-12-19T19:10:22.648Z"
   },
   {
    "duration": 109,
    "start_time": "2022-12-19T19:10:23.146Z"
   },
   {
    "duration": 111,
    "start_time": "2022-12-19T19:10:23.256Z"
   },
   {
    "duration": 30,
    "start_time": "2022-12-19T19:10:23.368Z"
   },
   {
    "duration": 47,
    "start_time": "2022-12-20T18:09:14.416Z"
   },
   {
    "duration": 6,
    "start_time": "2022-12-20T18:09:21.288Z"
   },
   {
    "duration": 6,
    "start_time": "2022-12-20T18:09:26.012Z"
   },
   {
    "duration": 1255,
    "start_time": "2022-12-20T18:09:34.742Z"
   },
   {
    "duration": 544,
    "start_time": "2022-12-20T18:09:35.999Z"
   },
   {
    "duration": 521,
    "start_time": "2022-12-20T18:09:36.545Z"
   },
   {
    "duration": 34,
    "start_time": "2022-12-20T18:09:37.067Z"
   },
   {
    "duration": 47,
    "start_time": "2022-12-20T18:09:37.103Z"
   },
   {
    "duration": 42,
    "start_time": "2022-12-20T18:09:57.245Z"
   },
   {
    "duration": 50,
    "start_time": "2022-12-20T18:10:04.375Z"
   },
   {
    "duration": 78,
    "start_time": "2022-12-20T18:11:26.293Z"
   },
   {
    "duration": 18,
    "start_time": "2022-12-20T18:17:32.301Z"
   },
   {
    "duration": 195,
    "start_time": "2022-12-20T18:17:51.374Z"
   },
   {
    "duration": 568,
    "start_time": "2022-12-20T18:18:03.066Z"
   },
   {
    "duration": 137,
    "start_time": "2022-12-20T18:18:03.636Z"
   },
   {
    "duration": 150,
    "start_time": "2022-12-20T18:18:03.774Z"
   },
   {
    "duration": 61,
    "start_time": "2022-12-20T18:18:03.926Z"
   },
   {
    "duration": 100,
    "start_time": "2022-12-20T18:18:03.991Z"
   },
   {
    "duration": 61,
    "start_time": "2022-12-20T18:18:04.095Z"
   },
   {
    "duration": 74,
    "start_time": "2022-12-20T18:18:04.158Z"
   },
   {
    "duration": 264,
    "start_time": "2022-12-20T18:18:04.234Z"
   },
   {
    "duration": 218,
    "start_time": "2022-12-20T18:18:23.125Z"
   },
   {
    "duration": 242,
    "start_time": "2022-12-20T18:18:42.958Z"
   },
   {
    "duration": 796,
    "start_time": "2022-12-20T18:25:16.204Z"
   },
   {
    "duration": 13,
    "start_time": "2022-12-20T18:28:10.817Z"
   },
   {
    "duration": 23,
    "start_time": "2022-12-20T18:55:03.064Z"
   },
   {
    "duration": 58,
    "start_time": "2022-12-20T18:56:09.322Z"
   },
   {
    "duration": 9,
    "start_time": "2022-12-20T19:00:56.498Z"
   },
   {
    "duration": 27,
    "start_time": "2022-12-20T19:01:00.775Z"
   },
   {
    "duration": 41,
    "start_time": "2022-12-20T19:01:02.162Z"
   },
   {
    "duration": 515,
    "start_time": "2022-12-20T19:05:25.426Z"
   },
   {
    "duration": 134,
    "start_time": "2022-12-20T19:05:25.943Z"
   },
   {
    "duration": 134,
    "start_time": "2022-12-20T19:05:26.079Z"
   },
   {
    "duration": 33,
    "start_time": "2022-12-20T19:05:26.215Z"
   },
   {
    "duration": 215,
    "start_time": "2022-12-20T19:05:26.250Z"
   },
   {
    "duration": 19,
    "start_time": "2022-12-20T19:05:26.467Z"
   },
   {
    "duration": 724,
    "start_time": "2022-12-20T19:05:26.489Z"
   },
   {
    "duration": 0,
    "start_time": "2022-12-20T19:05:27.215Z"
   },
   {
    "duration": 0,
    "start_time": "2022-12-20T19:05:27.217Z"
   },
   {
    "duration": 10,
    "start_time": "2022-12-20T19:05:41.535Z"
   },
   {
    "duration": 8,
    "start_time": "2022-12-20T19:06:09.538Z"
   },
   {
    "duration": 509,
    "start_time": "2022-12-20T19:07:24.325Z"
   },
   {
    "duration": 129,
    "start_time": "2022-12-20T19:07:24.836Z"
   },
   {
    "duration": 155,
    "start_time": "2022-12-20T19:07:24.966Z"
   },
   {
    "duration": 36,
    "start_time": "2022-12-20T19:07:25.126Z"
   },
   {
    "duration": 223,
    "start_time": "2022-12-20T19:07:25.164Z"
   },
   {
    "duration": 771,
    "start_time": "2022-12-20T19:07:25.388Z"
   },
   {
    "duration": 31,
    "start_time": "2022-12-20T19:07:26.161Z"
   },
   {
    "duration": 21,
    "start_time": "2022-12-20T19:07:26.194Z"
   },
   {
    "duration": 18,
    "start_time": "2022-12-20T19:07:39.696Z"
   },
   {
    "duration": 238,
    "start_time": "2022-12-20T19:08:24.124Z"
   },
   {
    "duration": 3,
    "start_time": "2022-12-20T19:08:41.165Z"
   },
   {
    "duration": 19,
    "start_time": "2022-12-20T19:08:42.823Z"
   },
   {
    "duration": 37,
    "start_time": "2022-12-20T19:09:07.777Z"
   },
   {
    "duration": 26,
    "start_time": "2022-12-20T19:10:32.377Z"
   },
   {
    "duration": 12,
    "start_time": "2022-12-20T19:10:43.594Z"
   },
   {
    "duration": 13,
    "start_time": "2022-12-20T19:10:50.510Z"
   },
   {
    "duration": 535,
    "start_time": "2022-12-20T19:10:56.622Z"
   },
   {
    "duration": 133,
    "start_time": "2022-12-20T19:10:57.158Z"
   },
   {
    "duration": 130,
    "start_time": "2022-12-20T19:10:57.293Z"
   },
   {
    "duration": 35,
    "start_time": "2022-12-20T19:10:57.425Z"
   },
   {
    "duration": 221,
    "start_time": "2022-12-20T19:10:57.462Z"
   },
   {
    "duration": 722,
    "start_time": "2022-12-20T19:10:57.685Z"
   },
   {
    "duration": 19,
    "start_time": "2022-12-20T19:10:58.408Z"
   },
   {
    "duration": 60,
    "start_time": "2022-12-20T19:10:58.428Z"
   },
   {
    "duration": 104,
    "start_time": "2022-12-20T19:10:58.492Z"
   },
   {
    "duration": 44,
    "start_time": "2022-12-20T19:12:09.870Z"
   },
   {
    "duration": 19,
    "start_time": "2022-12-20T19:17:18.855Z"
   },
   {
    "duration": 16,
    "start_time": "2022-12-20T19:18:03.225Z"
   },
   {
    "duration": 15,
    "start_time": "2022-12-20T19:18:05.596Z"
   },
   {
    "duration": 21,
    "start_time": "2022-12-20T19:18:08.623Z"
   },
   {
    "duration": 570,
    "start_time": "2022-12-20T19:40:46.725Z"
   },
   {
    "duration": 128,
    "start_time": "2022-12-20T19:40:47.297Z"
   },
   {
    "duration": 137,
    "start_time": "2022-12-20T19:40:47.427Z"
   },
   {
    "duration": 45,
    "start_time": "2022-12-20T19:40:47.566Z"
   },
   {
    "duration": 208,
    "start_time": "2022-12-20T19:40:47.613Z"
   },
   {
    "duration": 746,
    "start_time": "2022-12-20T19:40:47.822Z"
   },
   {
    "duration": 27,
    "start_time": "2022-12-20T19:40:48.570Z"
   },
   {
    "duration": 18,
    "start_time": "2022-12-20T19:40:48.598Z"
   },
   {
    "duration": 20,
    "start_time": "2022-12-20T19:40:48.677Z"
   },
   {
    "duration": 197,
    "start_time": "2022-12-20T19:40:48.700Z"
   },
   {
    "duration": 14,
    "start_time": "2022-12-21T14:21:29.695Z"
   },
   {
    "duration": 31,
    "start_time": "2022-12-21T14:23:24.705Z"
   },
   {
    "duration": 571,
    "start_time": "2022-12-21T14:23:30.789Z"
   },
   {
    "duration": 125,
    "start_time": "2022-12-21T14:23:31.361Z"
   },
   {
    "duration": 125,
    "start_time": "2022-12-21T14:23:31.488Z"
   },
   {
    "duration": 38,
    "start_time": "2022-12-21T14:23:31.615Z"
   },
   {
    "duration": 225,
    "start_time": "2022-12-21T14:23:31.656Z"
   },
   {
    "duration": 19,
    "start_time": "2022-12-21T14:23:31.883Z"
   },
   {
    "duration": 728,
    "start_time": "2022-12-21T14:23:31.903Z"
   },
   {
    "duration": 21,
    "start_time": "2022-12-21T14:23:32.632Z"
   },
   {
    "duration": 34,
    "start_time": "2022-12-21T14:23:32.654Z"
   },
   {
    "duration": 290,
    "start_time": "2022-12-21T14:23:32.690Z"
   },
   {
    "duration": 17,
    "start_time": "2022-12-21T14:23:32.982Z"
   },
   {
    "duration": 178,
    "start_time": "2022-12-21T14:23:33.002Z"
   },
   {
    "duration": 53,
    "start_time": "2022-12-21T14:24:44.888Z"
   },
   {
    "duration": 132,
    "start_time": "2022-12-21T14:24:54.336Z"
   },
   {
    "duration": 8,
    "start_time": "2022-12-21T14:26:07.957Z"
   },
   {
    "duration": 8,
    "start_time": "2022-12-21T14:28:09.301Z"
   },
   {
    "duration": 8,
    "start_time": "2022-12-21T14:28:24.511Z"
   },
   {
    "duration": 9,
    "start_time": "2022-12-21T14:29:22.982Z"
   },
   {
    "duration": 7,
    "start_time": "2022-12-21T14:29:34.139Z"
   },
   {
    "duration": 9,
    "start_time": "2022-12-21T14:32:13.798Z"
   },
   {
    "duration": 9,
    "start_time": "2022-12-21T14:32:23.890Z"
   },
   {
    "duration": 10,
    "start_time": "2022-12-21T14:38:02.842Z"
   },
   {
    "duration": 8,
    "start_time": "2022-12-21T14:38:24.358Z"
   },
   {
    "duration": 8,
    "start_time": "2022-12-21T15:30:09.393Z"
   },
   {
    "duration": 8,
    "start_time": "2022-12-21T15:30:23.596Z"
   },
   {
    "duration": 7,
    "start_time": "2022-12-21T15:30:26.623Z"
   },
   {
    "duration": 7,
    "start_time": "2022-12-21T15:30:49.305Z"
   },
   {
    "duration": 7,
    "start_time": "2022-12-21T15:30:56.917Z"
   },
   {
    "duration": 9,
    "start_time": "2022-12-21T15:31:11.894Z"
   },
   {
    "duration": 7,
    "start_time": "2022-12-21T15:31:17.346Z"
   },
   {
    "duration": 7,
    "start_time": "2022-12-21T15:31:26.071Z"
   },
   {
    "duration": 9,
    "start_time": "2022-12-21T15:31:34.705Z"
   },
   {
    "duration": 10,
    "start_time": "2022-12-21T15:31:38.886Z"
   },
   {
    "duration": 8,
    "start_time": "2022-12-21T15:47:30.675Z"
   },
   {
    "duration": 3,
    "start_time": "2022-12-21T15:47:41.059Z"
   },
   {
    "duration": 6,
    "start_time": "2022-12-21T15:48:05.102Z"
   },
   {
    "duration": 3,
    "start_time": "2022-12-21T15:55:49.532Z"
   },
   {
    "duration": 4,
    "start_time": "2022-12-21T17:37:57.107Z"
   },
   {
    "duration": 3,
    "start_time": "2022-12-21T17:44:35.534Z"
   },
   {
    "duration": 4,
    "start_time": "2022-12-21T17:44:43.467Z"
   },
   {
    "duration": 3,
    "start_time": "2022-12-21T17:48:10.571Z"
   },
   {
    "duration": 3,
    "start_time": "2022-12-21T17:48:21.709Z"
   },
   {
    "duration": 3,
    "start_time": "2022-12-21T17:49:04.399Z"
   },
   {
    "duration": 3,
    "start_time": "2022-12-21T17:53:33.383Z"
   },
   {
    "duration": 138,
    "start_time": "2022-12-21T18:18:14.697Z"
   },
   {
    "duration": 82,
    "start_time": "2022-12-21T18:33:44.164Z"
   },
   {
    "duration": 4,
    "start_time": "2022-12-21T19:09:03.204Z"
   },
   {
    "duration": 3,
    "start_time": "2022-12-21T19:10:02.518Z"
   },
   {
    "duration": 11,
    "start_time": "2022-12-21T19:24:21.189Z"
   },
   {
    "duration": 11,
    "start_time": "2022-12-21T19:27:51.240Z"
   },
   {
    "duration": 11,
    "start_time": "2022-12-21T19:28:10.842Z"
   },
   {
    "duration": 13,
    "start_time": "2022-12-21T19:29:32.738Z"
   },
   {
    "duration": 12,
    "start_time": "2022-12-21T19:31:28.700Z"
   },
   {
    "duration": 12,
    "start_time": "2022-12-21T20:28:48.630Z"
   },
   {
    "duration": 11,
    "start_time": "2022-12-21T20:30:05.193Z"
   },
   {
    "duration": 8,
    "start_time": "2022-12-21T20:30:36.918Z"
   },
   {
    "duration": 9,
    "start_time": "2022-12-21T20:30:44.559Z"
   },
   {
    "duration": 3,
    "start_time": "2022-12-21T20:31:22.521Z"
   },
   {
    "duration": 11,
    "start_time": "2022-12-21T20:31:34.255Z"
   },
   {
    "duration": 3,
    "start_time": "2022-12-21T20:31:58.750Z"
   },
   {
    "duration": 14,
    "start_time": "2022-12-21T20:32:01.598Z"
   },
   {
    "duration": 12,
    "start_time": "2022-12-21T20:33:06.540Z"
   },
   {
    "duration": 12,
    "start_time": "2022-12-21T20:35:43.906Z"
   },
   {
    "duration": 11,
    "start_time": "2022-12-21T21:20:45.413Z"
   },
   {
    "duration": 3,
    "start_time": "2022-12-21T21:21:25.982Z"
   },
   {
    "duration": 11,
    "start_time": "2022-12-21T21:21:28.853Z"
   },
   {
    "duration": 276,
    "start_time": "2022-12-22T11:28:26.519Z"
   },
   {
    "duration": 1246,
    "start_time": "2022-12-22T11:28:35.382Z"
   },
   {
    "duration": 534,
    "start_time": "2022-12-22T11:28:36.630Z"
   },
   {
    "duration": 514,
    "start_time": "2022-12-22T11:28:37.165Z"
   },
   {
    "duration": 29,
    "start_time": "2022-12-22T11:28:37.681Z"
   },
   {
    "duration": 172,
    "start_time": "2022-12-22T11:28:37.713Z"
   },
   {
    "duration": 679,
    "start_time": "2022-12-22T11:28:37.886Z"
   },
   {
    "duration": 21,
    "start_time": "2022-12-22T11:28:38.567Z"
   },
   {
    "duration": 28,
    "start_time": "2022-12-22T11:28:38.589Z"
   },
   {
    "duration": 195,
    "start_time": "2022-12-22T11:28:38.619Z"
   },
   {
    "duration": 200,
    "start_time": "2022-12-22T11:28:38.816Z"
   },
   {
    "duration": 96,
    "start_time": "2022-12-22T11:28:39.017Z"
   },
   {
    "duration": 3,
    "start_time": "2022-12-22T11:28:39.116Z"
   },
   {
    "duration": 11,
    "start_time": "2022-12-22T11:28:39.120Z"
   },
   {
    "duration": 15,
    "start_time": "2022-12-22T11:28:39.133Z"
   },
   {
    "duration": 127,
    "start_time": "2022-12-22T11:28:39.149Z"
   },
   {
    "duration": 701,
    "start_time": "2022-12-22T11:30:00.298Z"
   },
   {
    "duration": 676,
    "start_time": "2022-12-22T17:57:22.154Z"
   },
   {
    "duration": 731,
    "start_time": "2022-12-22T17:58:09.926Z"
   },
   {
    "duration": 677,
    "start_time": "2022-12-22T17:59:00.871Z"
   },
   {
    "duration": 679,
    "start_time": "2022-12-22T17:59:36.925Z"
   },
   {
    "duration": 752,
    "start_time": "2022-12-22T18:00:12.559Z"
   },
   {
    "duration": 645,
    "start_time": "2022-12-22T18:01:07.100Z"
   },
   {
    "duration": 679,
    "start_time": "2022-12-22T18:01:52.881Z"
   },
   {
    "duration": 78,
    "start_time": "2022-12-22T18:03:24.599Z"
   },
   {
    "duration": 760,
    "start_time": "2022-12-22T18:03:36.537Z"
   },
   {
    "duration": 704,
    "start_time": "2022-12-22T18:04:07.944Z"
   },
   {
    "duration": 688,
    "start_time": "2022-12-22T18:05:01.248Z"
   },
   {
    "duration": 683,
    "start_time": "2022-12-22T18:05:14.774Z"
   },
   {
    "duration": 795,
    "start_time": "2022-12-22T18:05:30.142Z"
   },
   {
    "duration": 690,
    "start_time": "2022-12-22T18:05:36.895Z"
   },
   {
    "duration": 46,
    "start_time": "2022-12-22T20:27:44.405Z"
   },
   {
    "duration": 1217,
    "start_time": "2022-12-22T20:27:54.324Z"
   },
   {
    "duration": 544,
    "start_time": "2022-12-22T20:27:55.543Z"
   },
   {
    "duration": 514,
    "start_time": "2022-12-22T20:27:56.089Z"
   },
   {
    "duration": 31,
    "start_time": "2022-12-22T20:27:56.604Z"
   },
   {
    "duration": 198,
    "start_time": "2022-12-22T20:27:56.637Z"
   },
   {
    "duration": 678,
    "start_time": "2022-12-22T20:27:56.837Z"
   },
   {
    "duration": 19,
    "start_time": "2022-12-22T20:27:57.517Z"
   },
   {
    "duration": 82,
    "start_time": "2022-12-22T20:27:57.538Z"
   },
   {
    "duration": 191,
    "start_time": "2022-12-22T20:27:57.622Z"
   },
   {
    "duration": 114,
    "start_time": "2022-12-22T20:27:57.817Z"
   },
   {
    "duration": 82,
    "start_time": "2022-12-22T20:27:57.933Z"
   },
   {
    "duration": 98,
    "start_time": "2022-12-22T20:27:58.020Z"
   },
   {
    "duration": 8,
    "start_time": "2022-12-22T20:27:58.120Z"
   },
   {
    "duration": 4,
    "start_time": "2022-12-22T20:27:58.130Z"
   },
   {
    "duration": 685,
    "start_time": "2022-12-22T20:27:58.136Z"
   },
   {
    "duration": 670,
    "start_time": "2022-12-22T20:27:58.823Z"
   },
   {
    "duration": 662,
    "start_time": "2022-12-22T20:27:59.495Z"
   },
   {
    "duration": 629,
    "start_time": "2022-12-22T20:28:47.156Z"
   },
   {
    "duration": 650,
    "start_time": "2022-12-22T20:28:53.080Z"
   },
   {
    "duration": 508,
    "start_time": "2022-12-22T20:29:07.725Z"
   },
   {
    "duration": 115,
    "start_time": "2022-12-22T20:29:08.237Z"
   },
   {
    "duration": 115,
    "start_time": "2022-12-22T20:29:08.353Z"
   },
   {
    "duration": 30,
    "start_time": "2022-12-22T20:29:08.470Z"
   },
   {
    "duration": 205,
    "start_time": "2022-12-22T20:29:08.502Z"
   },
   {
    "duration": 684,
    "start_time": "2022-12-22T20:29:08.709Z"
   },
   {
    "duration": 23,
    "start_time": "2022-12-22T20:29:09.395Z"
   },
   {
    "duration": 16,
    "start_time": "2022-12-22T20:29:09.419Z"
   },
   {
    "duration": 83,
    "start_time": "2022-12-22T20:29:09.437Z"
   },
   {
    "duration": 194,
    "start_time": "2022-12-22T20:29:09.522Z"
   },
   {
    "duration": 102,
    "start_time": "2022-12-22T20:29:09.717Z"
   },
   {
    "duration": 25,
    "start_time": "2022-12-22T20:29:09.821Z"
   },
   {
    "duration": 19,
    "start_time": "2022-12-22T20:29:09.848Z"
   },
   {
    "duration": 45,
    "start_time": "2022-12-22T20:29:09.869Z"
   },
   {
    "duration": 735,
    "start_time": "2022-12-22T20:29:09.916Z"
   },
   {
    "duration": 689,
    "start_time": "2022-12-22T20:29:10.653Z"
   },
   {
    "duration": 700,
    "start_time": "2022-12-22T20:29:11.343Z"
   },
   {
    "duration": 3,
    "start_time": "2022-12-22T20:33:06.827Z"
   },
   {
    "duration": 137,
    "start_time": "2022-12-22T20:36:43.105Z"
   },
   {
    "duration": 162,
    "start_time": "2022-12-22T20:36:48.990Z"
   },
   {
    "duration": 137,
    "start_time": "2022-12-22T20:36:52.553Z"
   },
   {
    "duration": 44,
    "start_time": "2022-12-22T20:36:55.375Z"
   },
   {
    "duration": 212,
    "start_time": "2022-12-22T20:37:03.111Z"
   },
   {
    "duration": 78,
    "start_time": "2022-12-22T20:38:07.048Z"
   },
   {
    "duration": 45,
    "start_time": "2022-12-22T20:38:25.149Z"
   },
   {
    "duration": 44,
    "start_time": "2022-12-22T20:38:32.654Z"
   },
   {
    "duration": 33,
    "start_time": "2022-12-22T20:40:48.456Z"
   },
   {
    "duration": 3,
    "start_time": "2022-12-22T20:40:54.024Z"
   },
   {
    "duration": 20,
    "start_time": "2022-12-22T20:40:56.724Z"
   },
   {
    "duration": 13,
    "start_time": "2022-12-22T20:42:27.591Z"
   },
   {
    "duration": 13,
    "start_time": "2022-12-22T20:42:29.343Z"
   },
   {
    "duration": 14,
    "start_time": "2022-12-22T20:42:31.268Z"
   },
   {
    "duration": 4,
    "start_time": "2022-12-22T20:45:01.273Z"
   },
   {
    "duration": 520,
    "start_time": "2022-12-22T20:45:33.016Z"
   },
   {
    "duration": 120,
    "start_time": "2022-12-22T20:45:33.537Z"
   },
   {
    "duration": 114,
    "start_time": "2022-12-22T20:45:33.659Z"
   },
   {
    "duration": 30,
    "start_time": "2022-12-22T20:45:33.775Z"
   },
   {
    "duration": 45,
    "start_time": "2022-12-22T20:45:33.812Z"
   },
   {
    "duration": 56,
    "start_time": "2022-12-22T20:45:33.859Z"
   },
   {
    "duration": 46,
    "start_time": "2022-12-22T20:45:33.917Z"
   },
   {
    "duration": 723,
    "start_time": "2022-12-22T20:45:33.965Z"
   },
   {
    "duration": 22,
    "start_time": "2022-12-22T20:45:34.691Z"
   },
   {
    "duration": 17,
    "start_time": "2022-12-22T20:45:34.715Z"
   },
   {
    "duration": 185,
    "start_time": "2022-12-22T20:45:34.734Z"
   },
   {
    "duration": 109,
    "start_time": "2022-12-22T20:45:34.921Z"
   },
   {
    "duration": 87,
    "start_time": "2022-12-22T20:45:35.031Z"
   },
   {
    "duration": 102,
    "start_time": "2022-12-22T20:45:35.120Z"
   },
   {
    "duration": 6,
    "start_time": "2022-12-22T20:45:35.224Z"
   },
   {
    "duration": 663,
    "start_time": "2022-12-22T20:45:35.232Z"
   },
   {
    "duration": 638,
    "start_time": "2022-12-22T20:45:35.897Z"
   },
   {
    "duration": 666,
    "start_time": "2022-12-22T20:45:36.537Z"
   },
   {
    "duration": 7,
    "start_time": "2022-12-23T14:42:07.377Z"
   },
   {
    "duration": 540,
    "start_time": "2022-12-23T14:42:13.931Z"
   },
   {
    "duration": 116,
    "start_time": "2022-12-23T14:42:14.473Z"
   },
   {
    "duration": 138,
    "start_time": "2022-12-23T14:42:14.591Z"
   },
   {
    "duration": 50,
    "start_time": "2022-12-23T14:42:14.732Z"
   },
   {
    "duration": 94,
    "start_time": "2022-12-23T14:42:14.784Z"
   },
   {
    "duration": 63,
    "start_time": "2022-12-23T14:42:14.881Z"
   },
   {
    "duration": 82,
    "start_time": "2022-12-23T14:42:14.946Z"
   },
   {
    "duration": 1102,
    "start_time": "2022-12-23T14:42:15.031Z"
   },
   {
    "duration": 18,
    "start_time": "2022-12-23T14:42:16.135Z"
   },
   {
    "duration": 58,
    "start_time": "2022-12-23T14:42:16.156Z"
   },
   {
    "duration": 138,
    "start_time": "2022-12-23T14:42:16.215Z"
   },
   {
    "duration": 176,
    "start_time": "2022-12-23T14:42:16.355Z"
   },
   {
    "duration": 201,
    "start_time": "2022-12-23T14:42:16.534Z"
   },
   {
    "duration": 23,
    "start_time": "2022-12-23T14:42:16.737Z"
   },
   {
    "duration": 30,
    "start_time": "2022-12-23T14:42:16.762Z"
   },
   {
    "duration": 1366,
    "start_time": "2022-12-23T14:42:16.794Z"
   },
   {
    "duration": 1378,
    "start_time": "2022-12-23T14:42:18.162Z"
   },
   {
    "duration": 1442,
    "start_time": "2022-12-23T14:42:19.542Z"
   },
   {
    "duration": 528,
    "start_time": "2022-12-23T14:50:49.709Z"
   },
   {
    "duration": 141,
    "start_time": "2022-12-23T14:50:50.239Z"
   },
   {
    "duration": 148,
    "start_time": "2022-12-23T14:50:50.382Z"
   },
   {
    "duration": 43,
    "start_time": "2022-12-23T14:50:50.532Z"
   },
   {
    "duration": 75,
    "start_time": "2022-12-23T14:50:50.577Z"
   },
   {
    "duration": 72,
    "start_time": "2022-12-23T14:50:50.654Z"
   },
   {
    "duration": 49,
    "start_time": "2022-12-23T14:50:50.730Z"
   },
   {
    "duration": 1295,
    "start_time": "2022-12-23T14:50:50.780Z"
   },
   {
    "duration": 26,
    "start_time": "2022-12-23T14:50:52.076Z"
   },
   {
    "duration": 37,
    "start_time": "2022-12-23T14:50:52.106Z"
   },
   {
    "duration": 190,
    "start_time": "2022-12-23T14:50:52.145Z"
   },
   {
    "duration": 199,
    "start_time": "2022-12-23T14:50:52.337Z"
   },
   {
    "duration": 190,
    "start_time": "2022-12-23T14:50:52.543Z"
   },
   {
    "duration": 17,
    "start_time": "2022-12-23T14:50:52.735Z"
   },
   {
    "duration": 4,
    "start_time": "2022-12-23T14:50:52.754Z"
   },
   {
    "duration": 708,
    "start_time": "2022-12-23T14:50:52.760Z"
   },
   {
    "duration": 694,
    "start_time": "2022-12-23T14:50:53.470Z"
   },
   {
    "duration": 712,
    "start_time": "2022-12-23T14:50:54.166Z"
   },
   {
    "duration": 559,
    "start_time": "2022-12-23T14:54:56.497Z"
   },
   {
    "duration": 114,
    "start_time": "2022-12-23T14:54:57.058Z"
   },
   {
    "duration": 116,
    "start_time": "2022-12-23T14:54:57.173Z"
   },
   {
    "duration": 38,
    "start_time": "2022-12-23T14:54:57.290Z"
   },
   {
    "duration": 46,
    "start_time": "2022-12-23T14:54:57.333Z"
   },
   {
    "duration": 58,
    "start_time": "2022-12-23T14:54:57.381Z"
   },
   {
    "duration": 47,
    "start_time": "2022-12-23T14:54:57.441Z"
   },
   {
    "duration": 1139,
    "start_time": "2022-12-23T14:54:57.490Z"
   },
   {
    "duration": 18,
    "start_time": "2022-12-23T14:54:58.630Z"
   },
   {
    "duration": 75,
    "start_time": "2022-12-23T14:54:58.650Z"
   },
   {
    "duration": 110,
    "start_time": "2022-12-23T14:54:58.726Z"
   },
   {
    "duration": 201,
    "start_time": "2022-12-23T14:54:58.838Z"
   },
   {
    "duration": 72,
    "start_time": "2022-12-23T14:54:59.044Z"
   },
   {
    "duration": 119,
    "start_time": "2022-12-23T14:54:59.120Z"
   },
   {
    "duration": 29,
    "start_time": "2022-12-23T14:54:59.240Z"
   },
   {
    "duration": 711,
    "start_time": "2022-12-23T14:54:59.271Z"
   },
   {
    "duration": 710,
    "start_time": "2022-12-23T14:54:59.984Z"
   },
   {
    "duration": 746,
    "start_time": "2022-12-23T14:55:00.697Z"
   },
   {
    "duration": 406,
    "start_time": "2022-12-23T19:02:20.728Z"
   },
   {
    "duration": 769,
    "start_time": "2022-12-23T19:02:45.908Z"
   },
   {
    "duration": 32,
    "start_time": "2022-12-23T19:03:03.259Z"
   },
   {
    "duration": 4,
    "start_time": "2022-12-23T19:03:42.716Z"
   },
   {
    "duration": 1196,
    "start_time": "2022-12-23T19:03:50.998Z"
   },
   {
    "duration": 646,
    "start_time": "2022-12-23T19:03:52.199Z"
   },
   {
    "duration": 724,
    "start_time": "2022-12-23T19:03:52.846Z"
   },
   {
    "duration": 714,
    "start_time": "2022-12-23T19:03:53.573Z"
   },
   {
    "duration": 41,
    "start_time": "2022-12-23T19:03:54.294Z"
   },
   {
    "duration": 81,
    "start_time": "2022-12-23T19:03:54.337Z"
   },
   {
    "duration": 72,
    "start_time": "2022-12-23T19:03:54.420Z"
   },
   {
    "duration": 61,
    "start_time": "2022-12-23T19:03:54.493Z"
   },
   {
    "duration": 67,
    "start_time": "2022-12-23T19:03:54.556Z"
   },
   {
    "duration": 75,
    "start_time": "2022-12-23T19:03:54.626Z"
   },
   {
    "duration": 108,
    "start_time": "2022-12-23T19:03:54.705Z"
   },
   {
    "duration": 204,
    "start_time": "2022-12-23T19:03:54.818Z"
   },
   {
    "duration": 194,
    "start_time": "2022-12-23T19:03:55.024Z"
   },
   {
    "duration": 21,
    "start_time": "2022-12-23T19:03:55.220Z"
   },
   {
    "duration": 32,
    "start_time": "2022-12-23T19:03:55.243Z"
   },
   {
    "duration": 862,
    "start_time": "2022-12-23T19:03:55.277Z"
   },
   {
    "duration": 769,
    "start_time": "2022-12-23T19:03:56.141Z"
   },
   {
    "duration": 787,
    "start_time": "2022-12-23T19:03:56.913Z"
   },
   {
    "duration": 89,
    "start_time": "2022-12-23T19:05:51.413Z"
   },
   {
    "duration": 1449,
    "start_time": "2022-12-23T19:09:18.711Z"
   },
   {
    "duration": 12,
    "start_time": "2022-12-23T19:09:58.833Z"
   },
   {
    "duration": 14,
    "start_time": "2022-12-23T19:14:09.572Z"
   },
   {
    "duration": 11,
    "start_time": "2022-12-23T19:14:20.410Z"
   },
   {
    "duration": 10,
    "start_time": "2022-12-23T19:15:08.264Z"
   },
   {
    "duration": 11,
    "start_time": "2022-12-23T19:15:48.352Z"
   },
   {
    "duration": 1073,
    "start_time": "2022-12-23T19:15:57.740Z"
   },
   {
    "duration": 165,
    "start_time": "2022-12-23T19:15:58.815Z"
   },
   {
    "duration": 146,
    "start_time": "2022-12-23T19:15:58.982Z"
   },
   {
    "duration": 130,
    "start_time": "2022-12-23T19:15:59.130Z"
   },
   {
    "duration": 41,
    "start_time": "2022-12-23T19:15:59.262Z"
   },
   {
    "duration": 53,
    "start_time": "2022-12-23T19:15:59.308Z"
   },
   {
    "duration": 54,
    "start_time": "2022-12-23T19:15:59.362Z"
   },
   {
    "duration": 85,
    "start_time": "2022-12-23T19:15:59.418Z"
   },
   {
    "duration": 31,
    "start_time": "2022-12-23T19:15:59.505Z"
   },
   {
    "duration": 105,
    "start_time": "2022-12-23T19:15:59.538Z"
   },
   {
    "duration": 52,
    "start_time": "2022-12-23T19:15:59.645Z"
   },
   {
    "duration": 102,
    "start_time": "2022-12-23T19:15:59.700Z"
   },
   {
    "duration": 217,
    "start_time": "2022-12-23T19:15:59.804Z"
   },
   {
    "duration": 75,
    "start_time": "2022-12-23T19:16:00.024Z"
   },
   {
    "duration": 108,
    "start_time": "2022-12-23T19:16:00.105Z"
   },
   {
    "duration": 8,
    "start_time": "2022-12-23T19:16:00.214Z"
   },
   {
    "duration": 787,
    "start_time": "2022-12-23T19:16:00.224Z"
   },
   {
    "duration": 746,
    "start_time": "2022-12-23T19:16:01.018Z"
   },
   {
    "duration": 730,
    "start_time": "2022-12-23T19:16:01.766Z"
   },
   {
    "duration": 115,
    "start_time": "2022-12-23T19:25:54.440Z"
   },
   {
    "duration": 11,
    "start_time": "2022-12-23T19:26:02.670Z"
   },
   {
    "duration": 10,
    "start_time": "2022-12-23T19:26:10.339Z"
   },
   {
    "duration": 1307,
    "start_time": "2022-12-23T19:26:16.126Z"
   },
   {
    "duration": 188,
    "start_time": "2022-12-23T19:26:17.436Z"
   },
   {
    "duration": 142,
    "start_time": "2022-12-23T19:26:17.626Z"
   },
   {
    "duration": 168,
    "start_time": "2022-12-23T19:26:17.770Z"
   },
   {
    "duration": 51,
    "start_time": "2022-12-23T19:26:17.941Z"
   },
   {
    "duration": 72,
    "start_time": "2022-12-23T19:26:17.994Z"
   },
   {
    "duration": 74,
    "start_time": "2022-12-23T19:26:18.068Z"
   },
   {
    "duration": 68,
    "start_time": "2022-12-23T19:26:18.143Z"
   },
   {
    "duration": 39,
    "start_time": "2022-12-23T19:26:18.212Z"
   },
   {
    "duration": 47,
    "start_time": "2022-12-23T19:26:18.253Z"
   },
   {
    "duration": 74,
    "start_time": "2022-12-23T19:26:18.304Z"
   },
   {
    "duration": 138,
    "start_time": "2022-12-23T19:26:18.380Z"
   },
   {
    "duration": 158,
    "start_time": "2022-12-23T19:26:18.523Z"
   },
   {
    "duration": 98,
    "start_time": "2022-12-23T19:26:18.695Z"
   },
   {
    "duration": 135,
    "start_time": "2022-12-23T19:26:18.800Z"
   },
   {
    "duration": 7,
    "start_time": "2022-12-23T19:26:18.937Z"
   },
   {
    "duration": 10,
    "start_time": "2022-12-23T19:26:18.946Z"
   },
   {
    "duration": 918,
    "start_time": "2022-12-23T19:26:18.957Z"
   },
   {
    "duration": 822,
    "start_time": "2022-12-23T19:26:19.880Z"
   },
   {
    "duration": 845,
    "start_time": "2022-12-23T19:26:20.705Z"
   },
   {
    "duration": 126,
    "start_time": "2022-12-23T19:26:53.009Z"
   },
   {
    "duration": 1255,
    "start_time": "2022-12-23T19:27:01.156Z"
   },
   {
    "duration": 194,
    "start_time": "2022-12-23T19:27:02.413Z"
   },
   {
    "duration": 147,
    "start_time": "2022-12-23T19:27:02.609Z"
   },
   {
    "duration": 156,
    "start_time": "2022-12-23T19:27:02.758Z"
   },
   {
    "duration": 38,
    "start_time": "2022-12-23T19:27:02.918Z"
   },
   {
    "duration": 87,
    "start_time": "2022-12-23T19:27:02.958Z"
   },
   {
    "duration": 79,
    "start_time": "2022-12-23T19:27:03.047Z"
   },
   {
    "duration": 63,
    "start_time": "2022-12-23T19:27:03.129Z"
   },
   {
    "duration": 39,
    "start_time": "2022-12-23T19:27:03.198Z"
   },
   {
    "duration": 29,
    "start_time": "2022-12-23T19:27:03.240Z"
   },
   {
    "duration": 55,
    "start_time": "2022-12-23T19:27:03.271Z"
   },
   {
    "duration": 61,
    "start_time": "2022-12-23T19:27:03.330Z"
   },
   {
    "duration": 33,
    "start_time": "2022-12-23T19:27:03.399Z"
   },
   {
    "duration": 159,
    "start_time": "2022-12-23T19:27:03.482Z"
   },
   {
    "duration": 73,
    "start_time": "2022-12-23T19:27:03.643Z"
   },
   {
    "duration": 119,
    "start_time": "2022-12-23T19:27:03.718Z"
   },
   {
    "duration": 43,
    "start_time": "2022-12-23T19:27:03.839Z"
   },
   {
    "duration": 6,
    "start_time": "2022-12-23T19:27:03.887Z"
   },
   {
    "duration": 991,
    "start_time": "2022-12-23T19:27:03.894Z"
   },
   {
    "duration": 770,
    "start_time": "2022-12-23T19:27:04.897Z"
   },
   {
    "duration": 769,
    "start_time": "2022-12-23T19:27:05.669Z"
   },
   {
    "duration": 1652,
    "start_time": "2022-12-23T19:28:59.069Z"
   },
   {
    "duration": 1111,
    "start_time": "2022-12-23T19:29:40.094Z"
   },
   {
    "duration": 153,
    "start_time": "2022-12-23T19:29:41.211Z"
   },
   {
    "duration": 157,
    "start_time": "2022-12-23T19:29:41.365Z"
   },
   {
    "duration": 127,
    "start_time": "2022-12-23T19:29:41.524Z"
   },
   {
    "duration": 48,
    "start_time": "2022-12-23T19:29:41.654Z"
   },
   {
    "duration": 52,
    "start_time": "2022-12-23T19:29:41.707Z"
   },
   {
    "duration": 64,
    "start_time": "2022-12-23T19:29:41.760Z"
   },
   {
    "duration": 80,
    "start_time": "2022-12-23T19:29:41.827Z"
   },
   {
    "duration": 31,
    "start_time": "2022-12-23T19:29:41.909Z"
   },
   {
    "duration": 14,
    "start_time": "2022-12-23T19:29:41.942Z"
   },
   {
    "duration": 54,
    "start_time": "2022-12-23T19:29:41.957Z"
   },
   {
    "duration": 31,
    "start_time": "2022-12-23T19:29:42.013Z"
   },
   {
    "duration": 69,
    "start_time": "2022-12-23T19:29:42.046Z"
   },
   {
    "duration": 80,
    "start_time": "2022-12-23T19:29:42.118Z"
   },
   {
    "duration": 98,
    "start_time": "2022-12-23T19:29:42.200Z"
   },
   {
    "duration": 209,
    "start_time": "2022-12-23T19:29:42.300Z"
   },
   {
    "duration": 69,
    "start_time": "2022-12-23T19:29:42.511Z"
   },
   {
    "duration": 131,
    "start_time": "2022-12-23T19:29:42.581Z"
   },
   {
    "duration": 7,
    "start_time": "2022-12-23T19:29:42.714Z"
   },
   {
    "duration": 756,
    "start_time": "2022-12-23T19:29:42.723Z"
   },
   {
    "duration": 830,
    "start_time": "2022-12-23T19:29:43.481Z"
   },
   {
    "duration": 753,
    "start_time": "2022-12-23T19:29:44.315Z"
   },
   {
    "duration": 152,
    "start_time": "2022-12-23T19:35:13.419Z"
   },
   {
    "duration": 1307,
    "start_time": "2022-12-23T19:35:22.450Z"
   },
   {
    "duration": 238,
    "start_time": "2022-12-23T19:35:23.760Z"
   },
   {
    "duration": 181,
    "start_time": "2022-12-23T19:35:24.003Z"
   },
   {
    "duration": 180,
    "start_time": "2022-12-23T19:35:24.186Z"
   },
   {
    "duration": 62,
    "start_time": "2022-12-23T19:35:24.369Z"
   },
   {
    "duration": 91,
    "start_time": "2022-12-23T19:35:24.433Z"
   },
   {
    "duration": 67,
    "start_time": "2022-12-23T19:35:24.527Z"
   },
   {
    "duration": 67,
    "start_time": "2022-12-23T19:35:24.599Z"
   },
   {
    "duration": 58,
    "start_time": "2022-12-23T19:35:24.671Z"
   },
   {
    "duration": 25,
    "start_time": "2022-12-23T19:35:24.735Z"
   },
   {
    "duration": 52,
    "start_time": "2022-12-23T19:35:24.761Z"
   },
   {
    "duration": 57,
    "start_time": "2022-12-23T19:35:24.820Z"
   },
   {
    "duration": 97,
    "start_time": "2022-12-23T19:35:24.891Z"
   },
   {
    "duration": 55,
    "start_time": "2022-12-23T19:35:24.995Z"
   },
   {
    "duration": 171,
    "start_time": "2022-12-23T19:35:25.055Z"
   },
   {
    "duration": 91,
    "start_time": "2022-12-23T19:35:25.232Z"
   },
   {
    "duration": 148,
    "start_time": "2022-12-23T19:35:25.378Z"
   },
   {
    "duration": 9,
    "start_time": "2022-12-23T19:35:25.528Z"
   },
   {
    "duration": 8,
    "start_time": "2022-12-23T19:35:25.539Z"
   },
   {
    "duration": 1026,
    "start_time": "2022-12-23T19:35:25.549Z"
   },
   {
    "duration": 809,
    "start_time": "2022-12-23T19:35:26.578Z"
   },
   {
    "duration": 868,
    "start_time": "2022-12-23T19:35:27.396Z"
   },
   {
    "duration": 2500,
    "start_time": "2022-12-23T19:37:16.270Z"
   },
   {
    "duration": 133,
    "start_time": "2022-12-23T19:37:31.469Z"
   },
   {
    "duration": 9,
    "start_time": "2022-12-23T19:37:45.361Z"
   },
   {
    "duration": 3,
    "start_time": "2022-12-23T19:39:35.944Z"
   },
   {
    "duration": 1487,
    "start_time": "2022-12-23T19:39:41.360Z"
   },
   {
    "duration": 174,
    "start_time": "2022-12-23T19:39:42.850Z"
   },
   {
    "duration": 135,
    "start_time": "2022-12-23T19:39:43.026Z"
   },
   {
    "duration": 148,
    "start_time": "2022-12-23T19:39:43.163Z"
   },
   {
    "duration": 38,
    "start_time": "2022-12-23T19:39:43.314Z"
   },
   {
    "duration": 91,
    "start_time": "2022-12-23T19:39:43.354Z"
   },
   {
    "duration": 71,
    "start_time": "2022-12-23T19:39:43.447Z"
   },
   {
    "duration": 76,
    "start_time": "2022-12-23T19:39:43.520Z"
   },
   {
    "duration": 48,
    "start_time": "2022-12-23T19:39:43.598Z"
   },
   {
    "duration": 14,
    "start_time": "2022-12-23T19:39:43.648Z"
   },
   {
    "duration": 78,
    "start_time": "2022-12-23T19:39:43.664Z"
   },
   {
    "duration": 32,
    "start_time": "2022-12-23T19:39:43.744Z"
   },
   {
    "duration": 184,
    "start_time": "2022-12-23T19:39:43.783Z"
   },
   {
    "duration": 0,
    "start_time": "2022-12-23T19:39:43.969Z"
   },
   {
    "duration": 0,
    "start_time": "2022-12-23T19:39:43.971Z"
   },
   {
    "duration": 0,
    "start_time": "2022-12-23T19:39:43.972Z"
   },
   {
    "duration": 0,
    "start_time": "2022-12-23T19:39:43.974Z"
   },
   {
    "duration": 0,
    "start_time": "2022-12-23T19:39:43.975Z"
   },
   {
    "duration": 0,
    "start_time": "2022-12-23T19:39:43.976Z"
   },
   {
    "duration": 0,
    "start_time": "2022-12-23T19:39:43.976Z"
   },
   {
    "duration": 0,
    "start_time": "2022-12-23T19:39:43.977Z"
   },
   {
    "duration": 0,
    "start_time": "2022-12-23T19:39:43.984Z"
   },
   {
    "duration": 0,
    "start_time": "2022-12-23T19:39:43.990Z"
   },
   {
    "duration": 12,
    "start_time": "2022-12-23T19:41:44.707Z"
   },
   {
    "duration": 1629,
    "start_time": "2022-12-23T19:42:33.740Z"
   },
   {
    "duration": 175,
    "start_time": "2022-12-23T19:42:35.371Z"
   },
   {
    "duration": 160,
    "start_time": "2022-12-23T19:42:35.547Z"
   },
   {
    "duration": 194,
    "start_time": "2022-12-23T19:42:35.716Z"
   },
   {
    "duration": 42,
    "start_time": "2022-12-23T19:42:35.914Z"
   },
   {
    "duration": 65,
    "start_time": "2022-12-23T19:42:35.957Z"
   },
   {
    "duration": 64,
    "start_time": "2022-12-23T19:42:36.024Z"
   },
   {
    "duration": 90,
    "start_time": "2022-12-23T19:42:36.090Z"
   },
   {
    "duration": 48,
    "start_time": "2022-12-23T19:42:36.181Z"
   },
   {
    "duration": 18,
    "start_time": "2022-12-23T19:42:36.232Z"
   },
   {
    "duration": 67,
    "start_time": "2022-12-23T19:42:36.252Z"
   },
   {
    "duration": 38,
    "start_time": "2022-12-23T19:42:36.321Z"
   },
   {
    "duration": 1475,
    "start_time": "2022-12-23T19:53:10.165Z"
   },
   {
    "duration": 200,
    "start_time": "2022-12-23T19:53:11.642Z"
   },
   {
    "duration": 199,
    "start_time": "2022-12-23T19:53:11.844Z"
   },
   {
    "duration": 199,
    "start_time": "2022-12-23T19:53:12.046Z"
   },
   {
    "duration": 75,
    "start_time": "2022-12-23T19:53:12.247Z"
   },
   {
    "duration": 97,
    "start_time": "2022-12-23T19:53:12.329Z"
   },
   {
    "duration": 89,
    "start_time": "2022-12-23T19:53:12.428Z"
   },
   {
    "duration": 89,
    "start_time": "2022-12-23T19:53:12.522Z"
   },
   {
    "duration": 49,
    "start_time": "2022-12-23T19:53:12.613Z"
   },
   {
    "duration": 32,
    "start_time": "2022-12-23T19:53:12.665Z"
   },
   {
    "duration": 61,
    "start_time": "2022-12-23T19:53:12.703Z"
   },
   {
    "duration": 79,
    "start_time": "2022-12-23T19:53:12.768Z"
   },
   {
    "duration": 1741,
    "start_time": "2022-12-23T19:59:43.660Z"
   },
   {
    "duration": 227,
    "start_time": "2022-12-23T19:59:45.405Z"
   },
   {
    "duration": 165,
    "start_time": "2022-12-23T19:59:45.634Z"
   },
   {
    "duration": 204,
    "start_time": "2022-12-23T19:59:45.801Z"
   },
   {
    "duration": 72,
    "start_time": "2022-12-23T19:59:46.008Z"
   },
   {
    "duration": 92,
    "start_time": "2022-12-23T19:59:46.082Z"
   },
   {
    "duration": 73,
    "start_time": "2022-12-23T19:59:46.181Z"
   },
   {
    "duration": 79,
    "start_time": "2022-12-23T19:59:46.256Z"
   },
   {
    "duration": 53,
    "start_time": "2022-12-23T19:59:46.337Z"
   },
   {
    "duration": 25,
    "start_time": "2022-12-23T19:59:46.392Z"
   },
   {
    "duration": 44,
    "start_time": "2022-12-23T19:59:46.421Z"
   },
   {
    "duration": 59,
    "start_time": "2022-12-23T19:59:46.467Z"
   },
   {
    "duration": 2205,
    "start_time": "2022-12-23T20:11:57.069Z"
   },
   {
    "duration": 251,
    "start_time": "2022-12-23T20:11:59.276Z"
   },
   {
    "duration": 190,
    "start_time": "2022-12-23T20:11:59.529Z"
   },
   {
    "duration": 196,
    "start_time": "2022-12-23T20:11:59.722Z"
   },
   {
    "duration": 51,
    "start_time": "2022-12-23T20:11:59.920Z"
   },
   {
    "duration": 151,
    "start_time": "2022-12-23T20:11:59.974Z"
   },
   {
    "duration": 220,
    "start_time": "2022-12-23T20:12:00.127Z"
   },
   {
    "duration": 241,
    "start_time": "2022-12-23T20:12:00.349Z"
   },
   {
    "duration": 68,
    "start_time": "2022-12-23T20:12:00.592Z"
   },
   {
    "duration": 164,
    "start_time": "2022-12-23T20:12:00.664Z"
   },
   {
    "duration": 222,
    "start_time": "2022-12-23T20:12:00.830Z"
   },
   {
    "duration": 71,
    "start_time": "2022-12-23T20:12:01.058Z"
   },
   {
    "duration": 1887,
    "start_time": "2022-12-23T20:17:59.474Z"
   },
   {
    "duration": 217,
    "start_time": "2022-12-23T20:18:01.368Z"
   },
   {
    "duration": 201,
    "start_time": "2022-12-23T20:18:01.589Z"
   },
   {
    "duration": 217,
    "start_time": "2022-12-23T20:18:01.796Z"
   },
   {
    "duration": 57,
    "start_time": "2022-12-23T20:18:02.016Z"
   },
   {
    "duration": 95,
    "start_time": "2022-12-23T20:18:02.082Z"
   },
   {
    "duration": 123,
    "start_time": "2022-12-23T20:18:02.179Z"
   },
   {
    "duration": 99,
    "start_time": "2022-12-23T20:18:02.305Z"
   },
   {
    "duration": 52,
    "start_time": "2022-12-23T20:18:02.406Z"
   },
   {
    "duration": 27,
    "start_time": "2022-12-23T20:18:02.462Z"
   },
   {
    "duration": 102,
    "start_time": "2022-12-23T20:18:02.491Z"
   },
   {
    "duration": 63,
    "start_time": "2022-12-23T20:18:02.595Z"
   },
   {
    "duration": 1848,
    "start_time": "2022-12-23T20:20:12.262Z"
   },
   {
    "duration": 251,
    "start_time": "2022-12-23T20:20:14.118Z"
   },
   {
    "duration": 200,
    "start_time": "2022-12-23T20:20:14.377Z"
   },
   {
    "duration": 213,
    "start_time": "2022-12-23T20:20:14.580Z"
   },
   {
    "duration": 56,
    "start_time": "2022-12-23T20:20:14.800Z"
   },
   {
    "duration": 82,
    "start_time": "2022-12-23T20:20:14.865Z"
   },
   {
    "duration": 121,
    "start_time": "2022-12-23T20:20:14.949Z"
   },
   {
    "duration": 159,
    "start_time": "2022-12-23T20:20:15.074Z"
   },
   {
    "duration": 65,
    "start_time": "2022-12-23T20:20:15.238Z"
   },
   {
    "duration": 85,
    "start_time": "2022-12-23T20:20:15.306Z"
   },
   {
    "duration": 157,
    "start_time": "2022-12-23T20:20:15.393Z"
   },
   {
    "duration": 74,
    "start_time": "2022-12-23T20:20:15.553Z"
   },
   {
    "duration": 95,
    "start_time": "2022-12-23T20:20:15.630Z"
   },
   {
    "duration": 154,
    "start_time": "2022-12-23T20:20:15.729Z"
   },
   {
    "duration": 134,
    "start_time": "2022-12-23T20:20:15.886Z"
   },
   {
    "duration": 263,
    "start_time": "2022-12-23T20:20:16.033Z"
   },
   {
    "duration": 23,
    "start_time": "2022-12-23T20:20:16.307Z"
   },
   {
    "duration": 286,
    "start_time": "2022-12-23T20:20:16.341Z"
   },
   {
    "duration": 0,
    "start_time": "2022-12-23T20:20:16.630Z"
   },
   {
    "duration": 0,
    "start_time": "2022-12-23T20:20:16.632Z"
   },
   {
    "duration": 0,
    "start_time": "2022-12-23T20:20:16.634Z"
   },
   {
    "duration": 0,
    "start_time": "2022-12-23T20:20:16.635Z"
   },
   {
    "duration": 5,
    "start_time": "2022-12-23T20:20:28.460Z"
   },
   {
    "duration": 21,
    "start_time": "2022-12-23T20:24:28.562Z"
   },
   {
    "duration": 13,
    "start_time": "2022-12-23T20:24:36.762Z"
   },
   {
    "duration": 9,
    "start_time": "2022-12-23T20:24:52.668Z"
   },
   {
    "duration": 7,
    "start_time": "2022-12-23T20:25:00.763Z"
   },
   {
    "duration": 8,
    "start_time": "2022-12-23T20:25:11.863Z"
   },
   {
    "duration": 15,
    "start_time": "2022-12-23T20:25:13.783Z"
   },
   {
    "duration": 6,
    "start_time": "2022-12-23T20:25:28.528Z"
   },
   {
    "duration": 3,
    "start_time": "2022-12-23T21:05:39.544Z"
   },
   {
    "duration": 763,
    "start_time": "2022-12-23T21:06:21.708Z"
   },
   {
    "duration": 1418,
    "start_time": "2022-12-23T21:06:29.077Z"
   },
   {
    "duration": 169,
    "start_time": "2022-12-23T21:06:30.497Z"
   },
   {
    "duration": 158,
    "start_time": "2022-12-23T21:06:30.668Z"
   },
   {
    "duration": 137,
    "start_time": "2022-12-23T21:06:30.827Z"
   },
   {
    "duration": 49,
    "start_time": "2022-12-23T21:06:30.966Z"
   },
   {
    "duration": 75,
    "start_time": "2022-12-23T21:06:31.016Z"
   },
   {
    "duration": 51,
    "start_time": "2022-12-23T21:06:31.097Z"
   },
   {
    "duration": 71,
    "start_time": "2022-12-23T21:06:31.150Z"
   },
   {
    "duration": 31,
    "start_time": "2022-12-23T21:06:31.223Z"
   },
   {
    "duration": 39,
    "start_time": "2022-12-23T21:06:31.256Z"
   },
   {
    "duration": 44,
    "start_time": "2022-12-23T21:06:31.298Z"
   },
   {
    "duration": 28,
    "start_time": "2022-12-23T21:06:31.344Z"
   },
   {
    "duration": 64,
    "start_time": "2022-12-23T21:06:31.373Z"
   },
   {
    "duration": 43,
    "start_time": "2022-12-23T21:06:31.439Z"
   },
   {
    "duration": 113,
    "start_time": "2022-12-23T21:06:31.499Z"
   },
   {
    "duration": 272,
    "start_time": "2022-12-23T21:06:31.614Z"
   },
   {
    "duration": 5,
    "start_time": "2022-12-23T21:06:31.888Z"
   },
   {
    "duration": 127,
    "start_time": "2022-12-23T21:06:31.897Z"
   },
   {
    "duration": 6,
    "start_time": "2022-12-23T21:06:32.026Z"
   },
   {
    "duration": 14,
    "start_time": "2022-12-23T21:06:32.034Z"
   },
   {
    "duration": 9,
    "start_time": "2022-12-23T21:06:32.050Z"
   },
   {
    "duration": 796,
    "start_time": "2022-12-23T21:06:32.061Z"
   },
   {
    "duration": 731,
    "start_time": "2022-12-23T21:06:32.859Z"
   },
   {
    "duration": 834,
    "start_time": "2022-12-23T21:06:33.593Z"
   },
   {
    "duration": 4,
    "start_time": "2022-12-23T21:10:17.556Z"
   },
   {
    "duration": 1435,
    "start_time": "2022-12-23T21:10:25.574Z"
   },
   {
    "duration": 148,
    "start_time": "2022-12-23T21:10:27.013Z"
   },
   {
    "duration": 140,
    "start_time": "2022-12-23T21:10:27.163Z"
   },
   {
    "duration": 141,
    "start_time": "2022-12-23T21:10:27.305Z"
   },
   {
    "duration": 51,
    "start_time": "2022-12-23T21:10:27.447Z"
   },
   {
    "duration": 51,
    "start_time": "2022-12-23T21:10:27.499Z"
   },
   {
    "duration": 61,
    "start_time": "2022-12-23T21:10:27.551Z"
   },
   {
    "duration": 79,
    "start_time": "2022-12-23T21:10:27.613Z"
   },
   {
    "duration": 42,
    "start_time": "2022-12-23T21:10:27.703Z"
   },
   {
    "duration": 14,
    "start_time": "2022-12-23T21:10:27.748Z"
   },
   {
    "duration": 48,
    "start_time": "2022-12-23T21:10:27.763Z"
   },
   {
    "duration": 29,
    "start_time": "2022-12-23T21:10:27.813Z"
   },
   {
    "duration": 67,
    "start_time": "2022-12-23T21:10:27.844Z"
   },
   {
    "duration": 69,
    "start_time": "2022-12-23T21:10:27.913Z"
   },
   {
    "duration": 137,
    "start_time": "2022-12-23T21:10:27.984Z"
   },
   {
    "duration": 145,
    "start_time": "2022-12-23T21:10:28.181Z"
   },
   {
    "duration": 64,
    "start_time": "2022-12-23T21:10:28.330Z"
   },
   {
    "duration": 111,
    "start_time": "2022-12-23T21:10:28.400Z"
   },
   {
    "duration": 6,
    "start_time": "2022-12-23T21:10:28.513Z"
   },
   {
    "duration": 6,
    "start_time": "2022-12-23T21:10:28.521Z"
   },
   {
    "duration": 17,
    "start_time": "2022-12-23T21:10:28.528Z"
   },
   {
    "duration": 1443,
    "start_time": "2022-12-23T21:10:28.547Z"
   },
   {
    "duration": 1451,
    "start_time": "2022-12-23T21:10:29.991Z"
   },
   {
    "duration": 1380,
    "start_time": "2022-12-23T21:10:31.444Z"
   },
   {
    "duration": 3,
    "start_time": "2022-12-23T21:11:28.362Z"
   },
   {
    "duration": 1628,
    "start_time": "2022-12-23T21:11:31.801Z"
   },
   {
    "duration": 1563,
    "start_time": "2022-12-23T21:11:46.853Z"
   },
   {
    "duration": 87,
    "start_time": "2022-12-23T21:17:16.664Z"
   },
   {
    "duration": 1532,
    "start_time": "2022-12-23T21:17:33.756Z"
   },
   {
    "duration": 151,
    "start_time": "2022-12-23T21:17:35.300Z"
   },
   {
    "duration": 155,
    "start_time": "2022-12-23T21:17:35.453Z"
   },
   {
    "duration": 147,
    "start_time": "2022-12-23T21:17:35.610Z"
   },
   {
    "duration": 50,
    "start_time": "2022-12-23T21:17:35.760Z"
   },
   {
    "duration": 90,
    "start_time": "2022-12-23T21:17:35.812Z"
   },
   {
    "duration": 65,
    "start_time": "2022-12-23T21:17:35.905Z"
   },
   {
    "duration": 80,
    "start_time": "2022-12-23T21:17:35.972Z"
   },
   {
    "duration": 47,
    "start_time": "2022-12-23T21:17:36.053Z"
   },
   {
    "duration": 17,
    "start_time": "2022-12-23T21:17:36.101Z"
   },
   {
    "duration": 33,
    "start_time": "2022-12-23T21:17:36.119Z"
   },
   {
    "duration": 44,
    "start_time": "2022-12-23T21:17:36.154Z"
   },
   {
    "duration": 52,
    "start_time": "2022-12-23T21:17:36.200Z"
   },
   {
    "duration": 40,
    "start_time": "2022-12-23T21:17:36.255Z"
   },
   {
    "duration": 93,
    "start_time": "2022-12-23T21:17:36.297Z"
   },
   {
    "duration": 94,
    "start_time": "2022-12-23T21:17:36.398Z"
   },
   {
    "duration": 129,
    "start_time": "2022-12-23T21:17:36.493Z"
   },
   {
    "duration": 16,
    "start_time": "2022-12-23T21:17:36.624Z"
   },
   {
    "duration": 10,
    "start_time": "2022-12-23T21:17:36.642Z"
   },
   {
    "duration": 9,
    "start_time": "2022-12-23T21:17:36.654Z"
   },
   {
    "duration": 4,
    "start_time": "2022-12-23T21:17:36.679Z"
   },
   {
    "duration": 1493,
    "start_time": "2022-12-23T21:17:36.688Z"
   },
   {
    "duration": 1411,
    "start_time": "2022-12-23T21:17:38.186Z"
   },
   {
    "duration": 1442,
    "start_time": "2022-12-23T21:17:39.600Z"
   },
   {
    "duration": 48,
    "start_time": "2022-12-26T23:12:06.150Z"
   },
   {
    "duration": 1287,
    "start_time": "2022-12-26T23:12:12.733Z"
   },
   {
    "duration": 45,
    "start_time": "2022-12-26T23:12:14.525Z"
   },
   {
    "duration": 826,
    "start_time": "2022-12-26T23:12:17.971Z"
   }
  ],
  "kernelspec": {
   "display_name": "Python 3 (ipykernel)",
   "language": "python",
   "name": "python3"
  },
  "language_info": {
   "codemirror_mode": {
    "name": "ipython",
    "version": 3
   },
   "file_extension": ".py",
   "mimetype": "text/x-python",
   "name": "python",
   "nbconvert_exporter": "python",
   "pygments_lexer": "ipython3",
   "version": "3.9.5"
  },
  "toc": {
   "base_numbering": 1,
   "nav_menu": {},
   "number_sections": true,
   "sideBar": true,
   "skip_h1_title": true,
   "title_cell": "Table of Contents",
   "title_sidebar": "Contents",
   "toc_cell": false,
   "toc_position": {
    "height": "calc(100% - 180px)",
    "left": "10px",
    "top": "150px",
    "width": "250.352px"
   },
   "toc_section_display": true,
   "toc_window_display": true
  }
 },
 "nbformat": 4,
 "nbformat_minor": 2
}
