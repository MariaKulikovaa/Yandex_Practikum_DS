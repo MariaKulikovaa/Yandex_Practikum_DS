{
 "cells": [
  {
   "cell_type": "markdown",
   "metadata": {},
   "source": [
    "# Рекомендация тарифов"
   ]
  },
  {
   "cell_type": "markdown",
   "metadata": {},
   "source": [
    "В нашем распоряжении данные о поведении клиентов, которые уже перешли на эти тарифы (из проекта курса «Статистический анализ данных»). Нужно построить модель для задачи классификации, которая выберет подходящий тариф. Предобработка данных не понадобится — мы её уже сделали.\n",
    "\n",
    "Построим модель с максимально большим значением *accuracy*. Чтобы сдать проект успешно, нужно довести долю правильных ответов по крайней мере до 0.75. Проверим *accuracy* на тестовой выборке."
   ]
  },
  {
   "cell_type": "markdown",
   "metadata": {},
   "source": [
    "## Откроем и изучим файл"
   ]
  },
  {
   "cell_type": "code",
   "execution_count": 1,
   "metadata": {},
   "outputs": [],
   "source": [
    "import pandas as pd\n",
    "from sklearn.model_selection import train_test_split\n",
    "from sklearn.ensemble import RandomForestClassifier\n",
    "from sklearn.tree import DecisionTreeClassifier\n",
    "from sklearn.metrics import accuracy_score"
   ]
  },
  {
   "cell_type": "code",
   "execution_count": 2,
   "metadata": {},
   "outputs": [
    {
     "data": {
      "text/html": [
       "<div>\n",
       "<style scoped>\n",
       "    .dataframe tbody tr th:only-of-type {\n",
       "        vertical-align: middle;\n",
       "    }\n",
       "\n",
       "    .dataframe tbody tr th {\n",
       "        vertical-align: top;\n",
       "    }\n",
       "\n",
       "    .dataframe thead th {\n",
       "        text-align: right;\n",
       "    }\n",
       "</style>\n",
       "<table border=\"1\" class=\"dataframe\">\n",
       "  <thead>\n",
       "    <tr style=\"text-align: right;\">\n",
       "      <th></th>\n",
       "      <th>calls</th>\n",
       "      <th>minutes</th>\n",
       "      <th>messages</th>\n",
       "      <th>mb_used</th>\n",
       "      <th>is_ultra</th>\n",
       "    </tr>\n",
       "  </thead>\n",
       "  <tbody>\n",
       "    <tr>\n",
       "      <th>0</th>\n",
       "      <td>40.0</td>\n",
       "      <td>311.90</td>\n",
       "      <td>83.0</td>\n",
       "      <td>19915.42</td>\n",
       "      <td>0</td>\n",
       "    </tr>\n",
       "    <tr>\n",
       "      <th>1</th>\n",
       "      <td>85.0</td>\n",
       "      <td>516.75</td>\n",
       "      <td>56.0</td>\n",
       "      <td>22696.96</td>\n",
       "      <td>0</td>\n",
       "    </tr>\n",
       "    <tr>\n",
       "      <th>2</th>\n",
       "      <td>77.0</td>\n",
       "      <td>467.66</td>\n",
       "      <td>86.0</td>\n",
       "      <td>21060.45</td>\n",
       "      <td>0</td>\n",
       "    </tr>\n",
       "    <tr>\n",
       "      <th>3</th>\n",
       "      <td>106.0</td>\n",
       "      <td>745.53</td>\n",
       "      <td>81.0</td>\n",
       "      <td>8437.39</td>\n",
       "      <td>1</td>\n",
       "    </tr>\n",
       "    <tr>\n",
       "      <th>4</th>\n",
       "      <td>66.0</td>\n",
       "      <td>418.74</td>\n",
       "      <td>1.0</td>\n",
       "      <td>14502.75</td>\n",
       "      <td>0</td>\n",
       "    </tr>\n",
       "    <tr>\n",
       "      <th>5</th>\n",
       "      <td>58.0</td>\n",
       "      <td>344.56</td>\n",
       "      <td>21.0</td>\n",
       "      <td>15823.37</td>\n",
       "      <td>0</td>\n",
       "    </tr>\n",
       "    <tr>\n",
       "      <th>6</th>\n",
       "      <td>57.0</td>\n",
       "      <td>431.64</td>\n",
       "      <td>20.0</td>\n",
       "      <td>3738.90</td>\n",
       "      <td>1</td>\n",
       "    </tr>\n",
       "    <tr>\n",
       "      <th>7</th>\n",
       "      <td>15.0</td>\n",
       "      <td>132.40</td>\n",
       "      <td>6.0</td>\n",
       "      <td>21911.60</td>\n",
       "      <td>0</td>\n",
       "    </tr>\n",
       "    <tr>\n",
       "      <th>8</th>\n",
       "      <td>7.0</td>\n",
       "      <td>43.39</td>\n",
       "      <td>3.0</td>\n",
       "      <td>2538.67</td>\n",
       "      <td>1</td>\n",
       "    </tr>\n",
       "    <tr>\n",
       "      <th>9</th>\n",
       "      <td>90.0</td>\n",
       "      <td>665.41</td>\n",
       "      <td>38.0</td>\n",
       "      <td>17358.61</td>\n",
       "      <td>0</td>\n",
       "    </tr>\n",
       "  </tbody>\n",
       "</table>\n",
       "</div>"
      ],
      "text/plain": [
       "   calls  minutes  messages   mb_used  is_ultra\n",
       "0   40.0   311.90      83.0  19915.42         0\n",
       "1   85.0   516.75      56.0  22696.96         0\n",
       "2   77.0   467.66      86.0  21060.45         0\n",
       "3  106.0   745.53      81.0   8437.39         1\n",
       "4   66.0   418.74       1.0  14502.75         0\n",
       "5   58.0   344.56      21.0  15823.37         0\n",
       "6   57.0   431.64      20.0   3738.90         1\n",
       "7   15.0   132.40       6.0  21911.60         0\n",
       "8    7.0    43.39       3.0   2538.67         1\n",
       "9   90.0   665.41      38.0  17358.61         0"
      ]
     },
     "execution_count": 2,
     "metadata": {},
     "output_type": "execute_result"
    }
   ],
   "source": [
    "df = pd.read_csv('/datasets/users_behavior.csv')\n",
    "df.head(10)"
   ]
  },
  {
   "cell_type": "code",
   "execution_count": 3,
   "metadata": {},
   "outputs": [
    {
     "name": "stdout",
     "output_type": "stream",
     "text": [
      "<class 'pandas.core.frame.DataFrame'>\n",
      "RangeIndex: 3214 entries, 0 to 3213\n",
      "Data columns (total 5 columns):\n",
      " #   Column    Non-Null Count  Dtype  \n",
      "---  ------    --------------  -----  \n",
      " 0   calls     3214 non-null   float64\n",
      " 1   minutes   3214 non-null   float64\n",
      " 2   messages  3214 non-null   float64\n",
      " 3   mb_used   3214 non-null   float64\n",
      " 4   is_ultra  3214 non-null   int64  \n",
      "dtypes: float64(4), int64(1)\n",
      "memory usage: 125.7 KB\n"
     ]
    }
   ],
   "source": [
    "df.info()"
   ]
  },
  {
   "cell_type": "markdown",
   "metadata": {},
   "source": [
    "В датафрейме ни в обном из столбцов нет пропусков."
   ]
  },
  {
   "cell_type": "code",
   "execution_count": 4,
   "metadata": {},
   "outputs": [
    {
     "data": {
      "text/plain": [
       "0    2229\n",
       "1     985\n",
       "Name: is_ultra, dtype: int64"
      ]
     },
     "execution_count": 4,
     "metadata": {},
     "output_type": "execute_result"
    }
   ],
   "source": [
    "df.is_ultra.value_counts()"
   ]
  },
  {
   "cell_type": "markdown",
   "metadata": {},
   "source": [
    "## Разобьем данные на выборки"
   ]
  },
  {
   "cell_type": "code",
   "execution_count": 5,
   "metadata": {},
   "outputs": [],
   "source": [
    "train_valid, test = train_test_split( df, test_size=0.25, random_state=12345)\n",
    "df_train, df_valid = train_test_split(train_valid, test_size=0.3, random_state=12345)"
   ]
  },
  {
   "cell_type": "markdown",
   "metadata": {},
   "source": [
    "## Исследуем модели"
   ]
  },
  {
   "cell_type": "markdown",
   "metadata": {},
   "source": [
    "Сохраним признаки и целевой признак в следующих переменных для обучающей, валидационной и тестовой выборок"
   ]
  },
  {
   "cell_type": "code",
   "execution_count": 6,
   "metadata": {},
   "outputs": [],
   "source": [
    "features_train = df_train.drop(['is_ultra'], axis=1)\n",
    "target_train = df_train['is_ultra']\n",
    "features_valid = df_valid.drop(['is_ultra'], axis=1)\n",
    "target_valid = df_valid['is_ultra']\n",
    "features_test = test.drop(['is_ultra'], axis=1)\n",
    "target_test = test['is_ultra']"
   ]
  },
  {
   "cell_type": "markdown",
   "metadata": {},
   "source": [
    "Рассмотрим 2 метода построения моделей классификации: DecisionTreeClassifier и RandomForestClassifier"
   ]
  },
  {
   "cell_type": "markdown",
   "metadata": {},
   "source": [
    "### DecisionTreeClassifier"
   ]
  },
  {
   "cell_type": "code",
   "execution_count": 7,
   "metadata": {},
   "outputs": [
    {
     "name": "stdout",
     "output_type": "stream",
     "text": [
      "Accuracy: 0.7482710926694329\n"
     ]
    }
   ],
   "source": [
    "model = DecisionTreeClassifier(random_state=12345)\n",
    "model.fit(features_train, target_train)\n",
    "predictions = model.predict(features_valid)\n",
    "result = accuracy_score(target_valid, predictions)\n",
    "print(\"Accuracy:\", result)"
   ]
  },
  {
   "cell_type": "markdown",
   "metadata": {},
   "source": [
    "Попробуем улучшить модель и добавим параметр глубины дерева max_depth"
   ]
  },
  {
   "cell_type": "code",
   "execution_count": 8,
   "metadata": {},
   "outputs": [
    {
     "name": "stdout",
     "output_type": "stream",
     "text": [
      "max_depth = 10 : Accuracy наилучшей модели на валидационной выборке: 0.8022130013831259\n"
     ]
    }
   ],
   "source": [
    "best_model = None\n",
    "best_result = 0\n",
    "for depth in range(1, 11):\n",
    "    model = DecisionTreeClassifier(random_state=12345, max_depth=depth)\n",
    "    model.fit(features_train, target_train)\n",
    "    predictions =  model.predict(features_valid)\n",
    "    result = accuracy_score(target_valid, predictions)\n",
    "    if result > best_result:\n",
    "        best_model = model\n",
    "        best_result = result   \n",
    "print('max_depth =', depth, \": \", end='')\n",
    "print(\"Accuracy наилучшей модели на валидационной выборке:\", best_result)"
   ]
  },
  {
   "cell_type": "markdown",
   "metadata": {},
   "source": [
    "Значение Accuracy стало выше и при max_depth = 10 является максимальным. "
   ]
  },
  {
   "cell_type": "markdown",
   "metadata": {},
   "source": [
    "### RandomForestClassifier"
   ]
  },
  {
   "cell_type": "code",
   "execution_count": 9,
   "metadata": {},
   "outputs": [
    {
     "name": "stdout",
     "output_type": "stream",
     "text": [
      "Accuracy: 0.8188105117565698\n"
     ]
    }
   ],
   "source": [
    "model = RandomForestClassifier(random_state=12345)\n",
    "model.fit(features_train, target_train)\n",
    "predictions = model.predict(features_valid)\n",
    "result = accuracy_score(target_valid, predictions)\n",
    "print(\"Accuracy:\", result)"
   ]
  },
  {
   "cell_type": "markdown",
   "metadata": {},
   "source": [
    "Проверим как модель реагирует на изменение гиперпараметра n_estimators"
   ]
  },
  {
   "cell_type": "code",
   "execution_count": 10,
   "metadata": {},
   "outputs": [
    {
     "name": "stdout",
     "output_type": "stream",
     "text": [
      "n_estimators = 1 : 0.7524204702627939\n",
      "n_estimators = 11 : 0.8008298755186722\n",
      "n_estimators = 21 : 0.8188105117565698\n",
      "n_estimators = 31 : 0.8188105117565698\n",
      "n_estimators = 41 : 0.8257261410788381\n",
      "n_estimators = 51 : 0.8257261410788381\n",
      "n_estimators = 61 : 0.8257261410788381\n",
      "n_estimators = 71 : 0.8257261410788381\n",
      "n_estimators = 81 : 0.8257261410788381\n",
      "n_estimators = 91 : 0.8257261410788381\n"
     ]
    }
   ],
   "source": [
    "best_model = None\n",
    "best_result = 0\n",
    "for est in range(1, 100, 10):\n",
    "    model = RandomForestClassifier(random_state=12345, n_estimators=est)\n",
    "    model.fit(features_train, target_train)\n",
    "    result = model.score(features_valid, target_valid)\n",
    "    if result > best_result:\n",
    "        best_model = model\n",
    "        best_result = result.max()\n",
    "    print('n_estimators =', est, \": \", end='')\n",
    "    print(best_result)"
   ]
  },
  {
   "cell_type": "markdown",
   "metadata": {},
   "source": [
    "Видим, что модель улучшается при увеличении значения n_estimators, притом достигает максимальное значение на пятом десятке и далее не увеличивается, поэтому берем лучшее значение n_estimators = 50"
   ]
  },
  {
   "cell_type": "markdown",
   "metadata": {},
   "source": [
    "Проверим как улучшается модель при разных значениях гиперпараметра max_depth глубина дерева"
   ]
  },
  {
   "cell_type": "code",
   "execution_count": 11,
   "metadata": {},
   "outputs": [
    {
     "name": "stdout",
     "output_type": "stream",
     "text": [
      "max_depth = 1 : 0.7828492392807745\n",
      "max_depth = 11 : 0.8257261410788381\n",
      "max_depth = 21 : 0.8312586445366529\n",
      "max_depth = 31 : 0.8188105117565698\n",
      "max_depth = 41 : 0.8188105117565698\n",
      "max_depth = 51 : 0.8188105117565698\n",
      "max_depth = 61 : 0.8188105117565698\n",
      "max_depth = 71 : 0.8188105117565698\n",
      "max_depth = 81 : 0.8188105117565698\n",
      "max_depth = 91 : 0.8188105117565698\n"
     ]
    }
   ],
   "source": [
    "for depth in range(1, 101, 10):\n",
    "    model = RandomForestClassifier(random_state = 12345, max_depth=depth)\n",
    "    model.fit(features_train, target_train)\n",
    "    predictions_valid = model.predict(features_valid)\n",
    "    print('max_depth =', depth, \": \", end='')\n",
    "    print(accuracy_score(target_valid, predictions_valid))"
   ]
  },
  {
   "cell_type": "code",
   "execution_count": 12,
   "metadata": {},
   "outputs": [
    {
     "name": "stdout",
     "output_type": "stream",
     "text": [
      "max_depth = 20 : 0.8188105117565698\n",
      "max_depth = 21 : 0.8312586445366529\n",
      "max_depth = 22 : 0.8201936376210235\n",
      "max_depth = 23 : 0.8174273858921162\n",
      "max_depth = 24 : 0.8174273858921162\n",
      "max_depth = 25 : 0.8188105117565698\n",
      "max_depth = 26 : 0.8188105117565698\n",
      "max_depth = 27 : 0.8188105117565698\n",
      "max_depth = 28 : 0.8188105117565698\n",
      "max_depth = 29 : 0.8201936376210235\n",
      "max_depth = 30 : 0.8215767634854771\n"
     ]
    }
   ],
   "source": [
    "for depth in range(20, 31):\n",
    "    model = RandomForestClassifier(random_state = 12345, max_depth=depth)\n",
    "    model.fit(features_train, target_train)\n",
    "    predictions_valid = model.predict(features_valid)\n",
    "    print('max_depth =', depth, \": \", end='')\n",
    "    print(accuracy_score(target_valid, predictions_valid))"
   ]
  },
  {
   "cell_type": "markdown",
   "metadata": {},
   "source": [
    "Итак, при значении max_depth=21 модель лучше всего и accuracy = 0.83"
   ]
  },
  {
   "cell_type": "markdown",
   "metadata": {},
   "source": [
    "## Проверка модели на тестовой выборке"
   ]
  },
  {
   "cell_type": "markdown",
   "metadata": {},
   "source": [
    "### DecisionTreeClassifier"
   ]
  },
  {
   "cell_type": "markdown",
   "metadata": {},
   "source": [
    "Проверим модель RandomForestClassifier на тестовой выборке"
   ]
  },
  {
   "cell_type": "code",
   "execution_count": 13,
   "metadata": {},
   "outputs": [
    {
     "name": "stdout",
     "output_type": "stream",
     "text": [
      "Accuracy: 0.7935323383084577\n"
     ]
    }
   ],
   "source": [
    "test_predictions = model.predict(features_test)\n",
    "\n",
    "def accuracy(answers, predictions):\n",
    "    correct = 0\n",
    "    for i in range(len(answers)):\n",
    "        if answers[i] == predictions[i]:\n",
    "            correct += 1# < напишите код здесь >\n",
    "    return correct / len(answers) \n",
    "print(\"Accuracy:\", accuracy(target_test.values, test_predictions))"
   ]
  },
  {
   "cell_type": "markdown",
   "metadata": {},
   "source": [
    "При тестировании модели получилось Accuracy = 0.79, что меньше, чем на тренировочных данных."
   ]
  }
 ],
 "metadata": {
  "ExecuteTimeLog": [
   {
    "duration": 553,
    "start_time": "2022-11-22T07:55:10.276Z"
   },
   {
    "duration": 37,
    "start_time": "2022-11-22T07:55:38.381Z"
   },
   {
    "duration": 2,
    "start_time": "2022-11-22T07:55:43.082Z"
   },
   {
    "duration": 35,
    "start_time": "2022-11-22T07:55:44.935Z"
   },
   {
    "duration": 36,
    "start_time": "2022-11-22T07:55:52.778Z"
   },
   {
    "duration": 11,
    "start_time": "2022-11-22T07:56:08.384Z"
   },
   {
    "duration": 5,
    "start_time": "2022-11-22T17:17:13.664Z"
   },
   {
    "duration": 704,
    "start_time": "2022-11-22T17:18:13.262Z"
   },
   {
    "duration": 39,
    "start_time": "2022-11-22T17:18:15.445Z"
   },
   {
    "duration": 13,
    "start_time": "2022-11-22T17:18:18.367Z"
   },
   {
    "duration": 4,
    "start_time": "2022-11-22T17:18:20.886Z"
   },
   {
    "duration": 96,
    "start_time": "2022-11-22T17:29:43.609Z"
   },
   {
    "duration": 6,
    "start_time": "2022-11-22T17:31:50.385Z"
   },
   {
    "duration": 5,
    "start_time": "2022-11-22T17:36:20.799Z"
   },
   {
    "duration": 5,
    "start_time": "2022-11-22T17:37:39.394Z"
   },
   {
    "duration": 5,
    "start_time": "2022-11-22T17:40:03.652Z"
   },
   {
    "duration": 47,
    "start_time": "2022-11-22T17:40:05.451Z"
   },
   {
    "duration": 5,
    "start_time": "2022-11-22T17:41:16.010Z"
   },
   {
    "duration": 4,
    "start_time": "2022-11-22T17:42:03.272Z"
   },
   {
    "duration": 980,
    "start_time": "2022-11-22T17:42:12.648Z"
   },
   {
    "duration": 45,
    "start_time": "2022-11-22T17:42:13.630Z"
   },
   {
    "duration": 11,
    "start_time": "2022-11-22T17:42:13.677Z"
   },
   {
    "duration": 13,
    "start_time": "2022-11-22T17:42:13.690Z"
   },
   {
    "duration": 54,
    "start_time": "2022-11-22T17:42:13.705Z"
   },
   {
    "duration": 19,
    "start_time": "2022-11-22T17:42:13.761Z"
   },
   {
    "duration": 4,
    "start_time": "2022-11-22T17:58:10.493Z"
   },
   {
    "duration": 3,
    "start_time": "2022-11-22T17:58:19.419Z"
   },
   {
    "duration": 42,
    "start_time": "2022-11-22T17:58:21.403Z"
   },
   {
    "duration": 10,
    "start_time": "2022-11-22T17:58:24.332Z"
   },
   {
    "duration": 5,
    "start_time": "2022-11-22T17:58:26.899Z"
   },
   {
    "duration": 5,
    "start_time": "2022-11-22T17:58:28.423Z"
   },
   {
    "duration": 5,
    "start_time": "2022-11-22T17:58:30.259Z"
   },
   {
    "duration": 5,
    "start_time": "2022-11-22T17:59:53.220Z"
   },
   {
    "duration": 6,
    "start_time": "2022-11-22T17:59:55.501Z"
   },
   {
    "duration": 45,
    "start_time": "2022-11-22T18:03:57.910Z"
   },
   {
    "duration": 38,
    "start_time": "2022-11-22T18:04:00.045Z"
   },
   {
    "duration": 11,
    "start_time": "2022-11-22T18:04:02.100Z"
   },
   {
    "duration": 4,
    "start_time": "2022-11-22T18:04:05.171Z"
   },
   {
    "duration": 5,
    "start_time": "2022-11-22T18:04:08.132Z"
   },
   {
    "duration": 6,
    "start_time": "2022-11-22T18:04:11.378Z"
   },
   {
    "duration": 235,
    "start_time": "2022-11-22T18:05:44.567Z"
   },
   {
    "duration": 203,
    "start_time": "2022-11-22T18:05:55.236Z"
   },
   {
    "duration": 77,
    "start_time": "2022-11-22T18:05:59.154Z"
   },
   {
    "duration": 438,
    "start_time": "2022-11-22T18:06:03.685Z"
   },
   {
    "duration": 766,
    "start_time": "2022-11-22T18:06:10.302Z"
   },
   {
    "duration": 318,
    "start_time": "2022-11-22T18:06:16.134Z"
   },
   {
    "duration": 242,
    "start_time": "2022-11-22T18:10:21.748Z"
   },
   {
    "duration": 243,
    "start_time": "2022-11-22T18:10:49.308Z"
   },
   {
    "duration": 271,
    "start_time": "2022-11-22T18:11:02.063Z"
   },
   {
    "duration": 108,
    "start_time": "2022-11-22T18:13:41.636Z"
   },
   {
    "duration": 13,
    "start_time": "2022-11-22T18:15:07.479Z"
   },
   {
    "duration": 13,
    "start_time": "2022-11-22T18:15:17.606Z"
   },
   {
    "duration": 3,
    "start_time": "2022-11-22T18:15:32.441Z"
   },
   {
    "duration": 6,
    "start_time": "2022-11-22T18:15:37.297Z"
   },
   {
    "duration": 4,
    "start_time": "2022-11-22T18:15:38.782Z"
   },
   {
    "duration": 5,
    "start_time": "2022-11-22T18:15:40.216Z"
   },
   {
    "duration": 244,
    "start_time": "2022-11-22T18:15:42.004Z"
   },
   {
    "duration": 8,
    "start_time": "2022-11-22T18:15:43.827Z"
   },
   {
    "duration": 9,
    "start_time": "2022-11-22T18:18:01.761Z"
   },
   {
    "duration": 10,
    "start_time": "2022-11-22T18:18:08.405Z"
   },
   {
    "duration": 10,
    "start_time": "2022-11-22T18:18:16.652Z"
   },
   {
    "duration": 9,
    "start_time": "2022-11-22T18:18:22.741Z"
   },
   {
    "duration": 1148,
    "start_time": "2022-11-22T18:18:27.868Z"
   },
   {
    "duration": 44,
    "start_time": "2022-11-22T18:18:29.019Z"
   },
   {
    "duration": 11,
    "start_time": "2022-11-22T18:18:29.064Z"
   },
   {
    "duration": 8,
    "start_time": "2022-11-22T18:18:29.077Z"
   },
   {
    "duration": 6,
    "start_time": "2022-11-22T18:18:29.087Z"
   },
   {
    "duration": 6,
    "start_time": "2022-11-22T18:18:29.095Z"
   },
   {
    "duration": 246,
    "start_time": "2022-11-22T18:18:29.103Z"
   },
   {
    "duration": 8,
    "start_time": "2022-11-22T18:18:29.350Z"
   },
   {
    "duration": 7,
    "start_time": "2022-11-22T18:28:15.175Z"
   },
   {
    "duration": 243,
    "start_time": "2022-11-22T18:28:18.391Z"
   },
   {
    "duration": 6,
    "start_time": "2022-11-22T18:41:50.077Z"
   },
   {
    "duration": 5,
    "start_time": "2022-11-22T18:41:52.218Z"
   },
   {
    "duration": 242,
    "start_time": "2022-11-22T18:41:54.619Z"
   },
   {
    "duration": 4,
    "start_time": "2022-11-22T18:45:47.414Z"
   },
   {
    "duration": 5,
    "start_time": "2022-11-22T18:47:12.865Z"
   },
   {
    "duration": 262,
    "start_time": "2022-11-22T18:47:14.384Z"
   },
   {
    "duration": 10,
    "start_time": "2022-11-22T18:47:16.683Z"
   },
   {
    "duration": 15,
    "start_time": "2022-11-22T18:47:44.949Z"
   },
   {
    "duration": 911,
    "start_time": "2022-11-22T18:48:12.618Z"
   },
   {
    "duration": 12,
    "start_time": "2022-11-22T18:48:24.727Z"
   },
   {
    "duration": 11,
    "start_time": "2022-11-22T18:56:03.310Z"
   },
   {
    "duration": 168,
    "start_time": "2022-11-22T18:56:18.210Z"
   },
   {
    "duration": 6,
    "start_time": "2022-11-22T18:56:36.326Z"
   },
   {
    "duration": 5,
    "start_time": "2022-11-22T18:56:39.718Z"
   },
   {
    "duration": 14,
    "start_time": "2022-11-22T18:56:41.094Z"
   },
   {
    "duration": 5,
    "start_time": "2022-11-22T18:56:43.174Z"
   },
   {
    "duration": 259,
    "start_time": "2022-11-22T18:56:45.254Z"
   },
   {
    "duration": 1039,
    "start_time": "2022-11-22T18:56:47.922Z"
   },
   {
    "duration": 22,
    "start_time": "2022-11-22T18:57:15.667Z"
   },
   {
    "duration": 2428,
    "start_time": "2022-11-22T18:57:48.321Z"
   },
   {
    "duration": 3750,
    "start_time": "2022-11-22T18:58:02.125Z"
   },
   {
    "duration": 2585,
    "start_time": "2022-11-22T18:58:12.819Z"
   },
   {
    "duration": 26,
    "start_time": "2022-11-22T18:59:43.665Z"
   },
   {
    "duration": 29,
    "start_time": "2022-11-22T18:59:50.137Z"
   },
   {
    "duration": 31,
    "start_time": "2022-11-22T18:59:57.481Z"
   },
   {
    "duration": 2294,
    "start_time": "2022-11-22T19:00:26.823Z"
   },
   {
    "duration": 25,
    "start_time": "2022-11-22T19:00:30.681Z"
   },
   {
    "duration": 38,
    "start_time": "2022-11-22T19:00:32.803Z"
   },
   {
    "duration": 3,
    "start_time": "2022-11-22T19:06:53.418Z"
   },
   {
    "duration": 6,
    "start_time": "2022-11-22T19:06:56.770Z"
   },
   {
    "duration": 5,
    "start_time": "2022-11-22T19:06:58.378Z"
   },
   {
    "duration": 5,
    "start_time": "2022-11-22T19:06:59.979Z"
   },
   {
    "duration": 250,
    "start_time": "2022-11-22T19:07:04.090Z"
   },
   {
    "duration": 8,
    "start_time": "2022-11-22T19:45:58.157Z"
   },
   {
    "duration": 15,
    "start_time": "2022-11-22T19:46:24.661Z"
   },
   {
    "duration": 261,
    "start_time": "2022-11-22T19:47:15.038Z"
   },
   {
    "duration": 231,
    "start_time": "2022-11-22T19:47:36.366Z"
   },
   {
    "duration": 233,
    "start_time": "2022-11-22T19:47:48.521Z"
   },
   {
    "duration": 309,
    "start_time": "2022-11-22T19:48:01.894Z"
   },
   {
    "duration": 270,
    "start_time": "2022-11-22T19:48:19.097Z"
   },
   {
    "duration": 2227,
    "start_time": "2022-11-22T19:48:36.744Z"
   },
   {
    "duration": 267,
    "start_time": "2022-11-22T19:49:51.714Z"
   },
   {
    "duration": 274,
    "start_time": "2022-11-22T19:50:13.970Z"
   },
   {
    "duration": 249,
    "start_time": "2022-11-22T19:50:37.035Z"
   },
   {
    "duration": 268,
    "start_time": "2022-11-22T19:51:09.130Z"
   },
   {
    "duration": 276,
    "start_time": "2022-11-22T19:51:48.909Z"
   },
   {
    "duration": 255,
    "start_time": "2022-11-22T19:52:05.647Z"
   },
   {
    "duration": 257,
    "start_time": "2022-11-22T19:52:29.947Z"
   },
   {
    "duration": 452,
    "start_time": "2022-11-22T19:52:48.665Z"
   },
   {
    "duration": 747,
    "start_time": "2022-11-22T19:52:58.117Z"
   },
   {
    "duration": 4710,
    "start_time": "2022-11-22T19:53:11.393Z"
   },
   {
    "duration": 402,
    "start_time": "2022-11-22T19:53:39.373Z"
   },
   {
    "duration": 605,
    "start_time": "2022-11-22T19:53:50.093Z"
   },
   {
    "duration": 575,
    "start_time": "2022-11-22T19:54:12.536Z"
   },
   {
    "duration": 589,
    "start_time": "2022-11-22T19:54:19.272Z"
   },
   {
    "duration": 1625,
    "start_time": "2022-11-22T19:56:27.811Z"
   },
   {
    "duration": 1203,
    "start_time": "2022-11-22T19:58:13.079Z"
   },
   {
    "duration": 806,
    "start_time": "2022-11-22T19:58:37.995Z"
   },
   {
    "duration": 1468,
    "start_time": "2022-11-22T19:58:46.815Z"
   },
   {
    "duration": 1512,
    "start_time": "2022-11-22T20:00:35.947Z"
   },
   {
    "duration": 3913,
    "start_time": "2022-11-22T20:01:30.578Z"
   },
   {
    "duration": 3878,
    "start_time": "2022-11-22T20:02:23.296Z"
   },
   {
    "duration": 33,
    "start_time": "2022-11-22T20:03:04.765Z"
   },
   {
    "duration": 32,
    "start_time": "2022-11-22T20:03:09.778Z"
   },
   {
    "duration": 6,
    "start_time": "2022-11-22T20:09:28.917Z"
   },
   {
    "duration": 1669,
    "start_time": "2022-11-22T20:10:43.537Z"
   },
   {
    "duration": 1712,
    "start_time": "2022-11-22T20:10:53.455Z"
   },
   {
    "duration": 13,
    "start_time": "2022-11-22T20:13:29.503Z"
   },
   {
    "duration": 782,
    "start_time": "2022-11-22T20:14:32.864Z"
   },
   {
    "duration": 1259,
    "start_time": "2022-11-22T20:15:27.084Z"
   },
   {
    "duration": 44,
    "start_time": "2022-11-22T20:15:28.345Z"
   },
   {
    "duration": 11,
    "start_time": "2022-11-22T20:15:28.391Z"
   },
   {
    "duration": 8,
    "start_time": "2022-11-22T20:15:28.404Z"
   },
   {
    "duration": 5,
    "start_time": "2022-11-22T20:15:28.414Z"
   },
   {
    "duration": 6,
    "start_time": "2022-11-22T20:15:28.420Z"
   },
   {
    "duration": 873,
    "start_time": "2022-11-22T20:15:28.427Z"
   },
   {
    "duration": 0,
    "start_time": "2022-11-22T20:15:29.302Z"
   },
   {
    "duration": 0,
    "start_time": "2022-11-22T20:15:29.303Z"
   },
   {
    "duration": 0,
    "start_time": "2022-11-22T20:15:29.304Z"
   },
   {
    "duration": 0,
    "start_time": "2022-11-22T20:15:29.305Z"
   },
   {
    "duration": 0,
    "start_time": "2022-11-22T20:15:29.306Z"
   },
   {
    "duration": 1140,
    "start_time": "2022-11-22T20:15:35.419Z"
   },
   {
    "duration": 772,
    "start_time": "2022-11-22T20:16:19.421Z"
   },
   {
    "duration": 729,
    "start_time": "2022-11-22T20:20:30.778Z"
   },
   {
    "duration": 9,
    "start_time": "2022-11-22T20:23:40.615Z"
   },
   {
    "duration": 10,
    "start_time": "2022-11-22T20:24:22.321Z"
   },
   {
    "duration": 752,
    "start_time": "2022-11-22T20:24:26.363Z"
   },
   {
    "duration": 5,
    "start_time": "2022-11-22T20:24:35.424Z"
   },
   {
    "duration": 727,
    "start_time": "2022-11-22T20:24:37.566Z"
   },
   {
    "duration": 1851,
    "start_time": "2022-11-22T20:47:35.782Z"
   },
   {
    "duration": 1536,
    "start_time": "2022-11-22T20:47:53.128Z"
   },
   {
    "duration": 4049,
    "start_time": "2022-11-22T20:48:00.593Z"
   },
   {
    "duration": 37,
    "start_time": "2022-11-22T20:48:26.681Z"
   },
   {
    "duration": 1123,
    "start_time": "2022-11-22T20:48:44.276Z"
   },
   {
    "duration": 43,
    "start_time": "2022-11-22T20:48:45.401Z"
   },
   {
    "duration": 11,
    "start_time": "2022-11-22T20:48:45.446Z"
   },
   {
    "duration": 8,
    "start_time": "2022-11-22T20:48:45.459Z"
   },
   {
    "duration": 9,
    "start_time": "2022-11-22T20:48:45.470Z"
   },
   {
    "duration": 7,
    "start_time": "2022-11-22T20:48:45.481Z"
   },
   {
    "duration": 943,
    "start_time": "2022-11-22T20:48:45.489Z"
   },
   {
    "duration": 0,
    "start_time": "2022-11-22T20:48:46.435Z"
   },
   {
    "duration": 0,
    "start_time": "2022-11-22T20:48:46.436Z"
   },
   {
    "duration": 0,
    "start_time": "2022-11-22T20:48:46.438Z"
   },
   {
    "duration": 0,
    "start_time": "2022-11-22T20:48:46.440Z"
   },
   {
    "duration": 0,
    "start_time": "2022-11-22T20:48:46.441Z"
   },
   {
    "duration": 11,
    "start_time": "2022-11-22T20:49:43.953Z"
   },
   {
    "duration": 3892,
    "start_time": "2022-11-22T20:49:57.842Z"
   },
   {
    "duration": 32,
    "start_time": "2022-11-22T20:50:02.193Z"
   },
   {
    "duration": 33,
    "start_time": "2022-11-22T20:50:03.990Z"
   },
   {
    "duration": 32,
    "start_time": "2022-11-22T20:50:05.618Z"
   },
   {
    "duration": 1552,
    "start_time": "2022-11-22T20:51:26.480Z"
   },
   {
    "duration": 6,
    "start_time": "2022-11-22T20:53:51.848Z"
   },
   {
    "duration": 11,
    "start_time": "2022-11-22T20:54:17.401Z"
   },
   {
    "duration": 8,
    "start_time": "2022-11-22T20:54:25.145Z"
   },
   {
    "duration": 6,
    "start_time": "2022-11-22T20:54:27.251Z"
   },
   {
    "duration": 836,
    "start_time": "2022-11-22T20:54:29.310Z"
   },
   {
    "duration": 8,
    "start_time": "2022-11-22T20:55:14.363Z"
   },
   {
    "duration": 7,
    "start_time": "2022-11-22T20:55:16.920Z"
   },
   {
    "duration": 727,
    "start_time": "2022-11-22T20:55:20.821Z"
   },
   {
    "duration": 1079,
    "start_time": "2022-11-22T20:55:41.220Z"
   },
   {
    "duration": 44,
    "start_time": "2022-11-22T20:55:42.300Z"
   },
   {
    "duration": 14,
    "start_time": "2022-11-22T20:55:42.345Z"
   },
   {
    "duration": 5,
    "start_time": "2022-11-22T20:55:42.361Z"
   },
   {
    "duration": 8,
    "start_time": "2022-11-22T20:55:42.368Z"
   },
   {
    "duration": 12,
    "start_time": "2022-11-22T20:55:42.377Z"
   },
   {
    "duration": 823,
    "start_time": "2022-11-22T20:55:42.391Z"
   },
   {
    "duration": 0,
    "start_time": "2022-11-22T20:55:43.217Z"
   },
   {
    "duration": 0,
    "start_time": "2022-11-22T20:55:43.217Z"
   },
   {
    "duration": 0,
    "start_time": "2022-11-22T20:55:43.219Z"
   },
   {
    "duration": 0,
    "start_time": "2022-11-22T20:55:43.220Z"
   },
   {
    "duration": 0,
    "start_time": "2022-11-22T20:55:43.222Z"
   },
   {
    "duration": 723,
    "start_time": "2022-11-22T20:56:20.083Z"
   },
   {
    "duration": 702,
    "start_time": "2022-11-22T20:56:28.665Z"
   },
   {
    "duration": 46,
    "start_time": "2022-11-23T16:52:08.772Z"
   },
   {
    "duration": 9,
    "start_time": "2022-11-23T16:52:10.944Z"
   },
   {
    "duration": 1079,
    "start_time": "2022-11-23T16:52:17.906Z"
   },
   {
    "duration": 91,
    "start_time": "2022-11-23T16:52:18.987Z"
   },
   {
    "duration": 11,
    "start_time": "2022-11-23T16:52:19.080Z"
   },
   {
    "duration": 8,
    "start_time": "2022-11-23T16:52:19.093Z"
   },
   {
    "duration": 8,
    "start_time": "2022-11-23T16:52:19.103Z"
   },
   {
    "duration": 7,
    "start_time": "2022-11-23T16:52:19.112Z"
   },
   {
    "duration": 1458,
    "start_time": "2022-11-23T16:52:19.120Z"
   },
   {
    "duration": 0,
    "start_time": "2022-11-23T16:52:20.580Z"
   },
   {
    "duration": 0,
    "start_time": "2022-11-23T16:52:20.581Z"
   },
   {
    "duration": 0,
    "start_time": "2022-11-23T16:52:20.583Z"
   },
   {
    "duration": 0,
    "start_time": "2022-11-23T16:52:20.584Z"
   },
   {
    "duration": 0,
    "start_time": "2022-11-23T16:52:20.585Z"
   },
   {
    "duration": 1293,
    "start_time": "2022-11-23T16:52:46.456Z"
   },
   {
    "duration": 1649,
    "start_time": "2022-11-23T16:52:49.969Z"
   },
   {
    "duration": 1279,
    "start_time": "2022-11-23T16:52:59.357Z"
   },
   {
    "duration": 1172,
    "start_time": "2022-11-23T17:07:56.324Z"
   },
   {
    "duration": 6,
    "start_time": "2022-11-23T17:18:05.947Z"
   },
   {
    "duration": 1234,
    "start_time": "2022-11-23T17:19:35.527Z"
   },
   {
    "duration": 1133,
    "start_time": "2022-11-23T17:21:18.432Z"
   },
   {
    "duration": 1246,
    "start_time": "2022-11-23T17:23:55.932Z"
   },
   {
    "duration": 1158,
    "start_time": "2022-11-23T17:25:33.905Z"
   },
   {
    "duration": 1203,
    "start_time": "2022-11-23T17:25:39.806Z"
   },
   {
    "duration": 1112,
    "start_time": "2022-11-23T17:27:58.387Z"
   },
   {
    "duration": 1378,
    "start_time": "2022-11-23T17:50:59.150Z"
   },
   {
    "duration": 3532,
    "start_time": "2022-11-23T17:51:05.764Z"
   },
   {
    "duration": 29,
    "start_time": "2022-11-23T17:52:03.925Z"
   },
   {
    "duration": 3,
    "start_time": "2022-11-23T17:54:49.199Z"
   },
   {
    "duration": 1112,
    "start_time": "2022-11-23T17:55:27.648Z"
   },
   {
    "duration": 45,
    "start_time": "2022-11-23T17:55:28.762Z"
   },
   {
    "duration": 11,
    "start_time": "2022-11-23T17:55:28.808Z"
   },
   {
    "duration": 6,
    "start_time": "2022-11-23T17:55:28.821Z"
   },
   {
    "duration": 5,
    "start_time": "2022-11-23T17:55:28.828Z"
   },
   {
    "duration": 7,
    "start_time": "2022-11-23T17:55:28.835Z"
   },
   {
    "duration": 1441,
    "start_time": "2022-11-23T17:55:28.843Z"
   },
   {
    "duration": 0,
    "start_time": "2022-11-23T17:55:30.286Z"
   },
   {
    "duration": 0,
    "start_time": "2022-11-23T17:55:30.287Z"
   },
   {
    "duration": 0,
    "start_time": "2022-11-23T17:55:30.288Z"
   },
   {
    "duration": 0,
    "start_time": "2022-11-23T17:55:30.289Z"
   },
   {
    "duration": 7,
    "start_time": "2022-11-23T17:55:30.694Z"
   },
   {
    "duration": 1533,
    "start_time": "2022-11-23T17:55:37.577Z"
   },
   {
    "duration": 1450,
    "start_time": "2022-11-23T17:55:41.286Z"
   },
   {
    "duration": 3946,
    "start_time": "2022-11-23T17:55:43.396Z"
   },
   {
    "duration": 34,
    "start_time": "2022-11-23T17:55:47.344Z"
   },
   {
    "duration": 11,
    "start_time": "2022-11-23T17:58:18.985Z"
   },
   {
    "duration": 10,
    "start_time": "2022-11-23T17:58:20.644Z"
   },
   {
    "duration": 1754,
    "start_time": "2022-11-23T18:01:43.615Z"
   },
   {
    "duration": 4,
    "start_time": "2022-11-23T18:05:19.655Z"
   },
   {
    "duration": 3172,
    "start_time": "2022-11-23T18:06:10.768Z"
   },
   {
    "duration": 27,
    "start_time": "2022-11-23T18:07:05.927Z"
   },
   {
    "duration": 1209,
    "start_time": "2022-11-23T18:07:32.231Z"
   },
   {
    "duration": 1327,
    "start_time": "2022-11-23T18:08:10.292Z"
   },
   {
    "duration": 1184,
    "start_time": "2022-11-23T18:09:44.590Z"
   },
   {
    "duration": 1127,
    "start_time": "2022-11-23T18:09:53.823Z"
   },
   {
    "duration": 8,
    "start_time": "2022-11-23T18:11:50.319Z"
   },
   {
    "duration": 1486,
    "start_time": "2022-11-23T20:40:45.658Z"
   },
   {
    "duration": 6,
    "start_time": "2022-11-23T20:41:12.897Z"
   },
   {
    "duration": 44,
    "start_time": "2022-11-24T17:52:40.667Z"
   },
   {
    "duration": 1023,
    "start_time": "2022-11-24T17:53:07.500Z"
   },
   {
    "duration": 78,
    "start_time": "2022-11-24T17:53:08.525Z"
   },
   {
    "duration": 11,
    "start_time": "2022-11-24T17:53:08.604Z"
   },
   {
    "duration": 8,
    "start_time": "2022-11-24T17:53:08.617Z"
   },
   {
    "duration": 8,
    "start_time": "2022-11-24T17:53:08.627Z"
   },
   {
    "duration": 108,
    "start_time": "2022-11-24T17:53:08.637Z"
   },
   {
    "duration": 0,
    "start_time": "2022-11-24T17:53:08.747Z"
   },
   {
    "duration": 0,
    "start_time": "2022-11-24T17:53:08.748Z"
   },
   {
    "duration": 0,
    "start_time": "2022-11-24T17:53:08.749Z"
   },
   {
    "duration": 0,
    "start_time": "2022-11-24T17:53:08.752Z"
   },
   {
    "duration": 24,
    "start_time": "2022-11-24T17:53:28.404Z"
   },
   {
    "duration": 23,
    "start_time": "2022-11-24T17:54:39.734Z"
   },
   {
    "duration": 24,
    "start_time": "2022-11-24T17:56:32.604Z"
   },
   {
    "duration": 21,
    "start_time": "2022-11-24T17:56:36.741Z"
   },
   {
    "duration": 18,
    "start_time": "2022-11-24T17:57:17.661Z"
   },
   {
    "duration": 14,
    "start_time": "2022-11-24T17:58:21.536Z"
   },
   {
    "duration": 14,
    "start_time": "2022-11-24T18:13:06.331Z"
   },
   {
    "duration": 15,
    "start_time": "2022-11-24T18:13:10.271Z"
   },
   {
    "duration": 12,
    "start_time": "2022-11-24T18:13:32.564Z"
   },
   {
    "duration": 13,
    "start_time": "2022-11-24T18:13:37.260Z"
   },
   {
    "duration": 16,
    "start_time": "2022-11-24T18:13:43.923Z"
   },
   {
    "duration": 59,
    "start_time": "2022-11-24T18:17:58.905Z"
   },
   {
    "duration": 14,
    "start_time": "2022-11-24T18:20:56.278Z"
   },
   {
    "duration": 13,
    "start_time": "2022-11-24T18:21:02.668Z"
   },
   {
    "duration": 14,
    "start_time": "2022-11-24T18:21:08.541Z"
   },
   {
    "duration": 59,
    "start_time": "2022-11-24T18:21:15.894Z"
   },
   {
    "duration": 61,
    "start_time": "2022-11-24T18:26:00.498Z"
   },
   {
    "duration": 59,
    "start_time": "2022-11-24T18:26:14.123Z"
   },
   {
    "duration": 59,
    "start_time": "2022-11-24T18:27:18.682Z"
   },
   {
    "duration": 67,
    "start_time": "2022-11-24T18:29:03.593Z"
   },
   {
    "duration": 64,
    "start_time": "2022-11-24T18:29:34.185Z"
   },
   {
    "duration": 14,
    "start_time": "2022-11-24T18:29:55.187Z"
   },
   {
    "duration": 14,
    "start_time": "2022-11-24T18:29:58.470Z"
   },
   {
    "duration": 62,
    "start_time": "2022-11-24T18:30:27.663Z"
   },
   {
    "duration": 1556,
    "start_time": "2022-11-24T18:32:12.283Z"
   },
   {
    "duration": 323,
    "start_time": "2022-11-24T18:33:31.115Z"
   },
   {
    "duration": 1610,
    "start_time": "2022-11-24T18:34:22.486Z"
   },
   {
    "duration": 3069,
    "start_time": "2022-11-24T18:34:36.368Z"
   },
   {
    "duration": 3795,
    "start_time": "2022-11-24T18:34:52.030Z"
   },
   {
    "duration": 34,
    "start_time": "2022-11-24T18:36:39.430Z"
   },
   {
    "duration": 3,
    "start_time": "2022-11-24T18:37:28.890Z"
   },
   {
    "duration": 3,
    "start_time": "2022-11-24T18:37:31.671Z"
   },
   {
    "duration": 28,
    "start_time": "2022-11-24T18:38:10.900Z"
   },
   {
    "duration": 27,
    "start_time": "2022-11-24T18:39:19.269Z"
   },
   {
    "duration": 10,
    "start_time": "2022-11-24T18:46:54.801Z"
   },
   {
    "duration": 58,
    "start_time": "2022-11-24T18:47:07.165Z"
   },
   {
    "duration": 11,
    "start_time": "2022-11-24T18:47:09.037Z"
   },
   {
    "duration": 3,
    "start_time": "2022-11-24T18:50:24.326Z"
   },
   {
    "duration": 3,
    "start_time": "2022-11-24T18:50:39.938Z"
   },
   {
    "duration": 7,
    "start_time": "2022-11-24T18:50:43.518Z"
   },
   {
    "duration": 6,
    "start_time": "2022-11-24T18:50:46.816Z"
   },
   {
    "duration": 18,
    "start_time": "2022-11-24T18:50:49.569Z"
   },
   {
    "duration": 81,
    "start_time": "2022-11-24T18:50:52.416Z"
   },
   {
    "duration": 373,
    "start_time": "2022-11-24T18:50:56.118Z"
   },
   {
    "duration": 1651,
    "start_time": "2022-11-24T18:50:59.771Z"
   },
   {
    "duration": 3261,
    "start_time": "2022-11-24T18:51:03.241Z"
   },
   {
    "duration": 28,
    "start_time": "2022-11-24T18:51:09.316Z"
   },
   {
    "duration": 1010,
    "start_time": "2022-11-24T19:33:06.806Z"
   },
   {
    "duration": 44,
    "start_time": "2022-11-24T19:33:07.818Z"
   },
   {
    "duration": 11,
    "start_time": "2022-11-24T19:33:07.863Z"
   },
   {
    "duration": 10,
    "start_time": "2022-11-24T19:33:07.875Z"
   },
   {
    "duration": 7,
    "start_time": "2022-11-24T19:33:07.887Z"
   },
   {
    "duration": 19,
    "start_time": "2022-11-24T19:33:07.895Z"
   },
   {
    "duration": 68,
    "start_time": "2022-11-24T19:33:07.916Z"
   },
   {
    "duration": 339,
    "start_time": "2022-11-24T19:33:07.986Z"
   },
   {
    "duration": 1526,
    "start_time": "2022-11-24T19:33:08.327Z"
   },
   {
    "duration": 3078,
    "start_time": "2022-11-24T19:33:09.855Z"
   },
   {
    "duration": 3780,
    "start_time": "2022-11-24T19:33:12.935Z"
   },
   {
    "duration": 40,
    "start_time": "2022-11-24T19:33:16.716Z"
   },
   {
    "duration": 55,
    "start_time": "2022-11-27T12:07:45.866Z"
   },
   {
    "duration": 6,
    "start_time": "2022-11-27T12:08:00.441Z"
   },
   {
    "duration": 1115,
    "start_time": "2022-11-27T12:08:09.251Z"
   },
   {
    "duration": 87,
    "start_time": "2022-11-27T12:08:10.368Z"
   },
   {
    "duration": 10,
    "start_time": "2022-11-27T12:08:10.458Z"
   },
   {
    "duration": 5,
    "start_time": "2022-11-27T12:08:10.471Z"
   },
   {
    "duration": 19,
    "start_time": "2022-11-27T12:08:10.480Z"
   },
   {
    "duration": 7,
    "start_time": "2022-11-27T12:08:10.501Z"
   },
   {
    "duration": 16,
    "start_time": "2022-11-27T12:08:10.510Z"
   },
   {
    "duration": 66,
    "start_time": "2022-11-27T12:08:10.527Z"
   },
   {
    "duration": 355,
    "start_time": "2022-11-27T12:08:10.596Z"
   },
   {
    "duration": 1704,
    "start_time": "2022-11-27T12:08:10.953Z"
   },
   {
    "duration": 3599,
    "start_time": "2022-11-27T12:08:12.659Z"
   },
   {
    "duration": 4003,
    "start_time": "2022-11-27T12:08:16.259Z"
   },
   {
    "duration": 46,
    "start_time": "2022-11-27T12:08:20.264Z"
   },
   {
    "duration": 69,
    "start_time": "2022-11-27T12:26:14.683Z"
   },
   {
    "duration": 77,
    "start_time": "2022-11-27T12:34:55.112Z"
   },
   {
    "duration": 1045,
    "start_time": "2022-11-27T12:35:51.098Z"
   },
   {
    "duration": 47,
    "start_time": "2022-11-27T12:35:52.145Z"
   },
   {
    "duration": 11,
    "start_time": "2022-11-27T12:35:52.194Z"
   },
   {
    "duration": 15,
    "start_time": "2022-11-27T12:35:52.207Z"
   },
   {
    "duration": 38,
    "start_time": "2022-11-27T12:35:52.223Z"
   },
   {
    "duration": 30,
    "start_time": "2022-11-27T12:35:52.263Z"
   },
   {
    "duration": 20,
    "start_time": "2022-11-27T12:35:52.295Z"
   },
   {
    "duration": 57,
    "start_time": "2022-11-27T12:35:52.317Z"
   },
   {
    "duration": 333,
    "start_time": "2022-11-27T12:35:52.376Z"
   },
   {
    "duration": 1655,
    "start_time": "2022-11-27T12:35:52.711Z"
   },
   {
    "duration": 3189,
    "start_time": "2022-11-27T12:35:54.368Z"
   },
   {
    "duration": 3762,
    "start_time": "2022-11-27T12:35:57.558Z"
   },
   {
    "duration": 32,
    "start_time": "2022-11-27T12:36:01.321Z"
   },
   {
    "duration": 52,
    "start_time": "2022-11-29T08:54:03.110Z"
   },
   {
    "duration": 44,
    "start_time": "2022-12-06T19:57:56.924Z"
   },
   {
    "duration": 1077,
    "start_time": "2022-12-06T19:58:04.918Z"
   },
   {
    "duration": 145,
    "start_time": "2022-12-06T19:58:05.997Z"
   },
   {
    "duration": 11,
    "start_time": "2022-12-06T19:58:06.144Z"
   },
   {
    "duration": 9,
    "start_time": "2022-12-06T19:58:06.157Z"
   },
   {
    "duration": 6,
    "start_time": "2022-12-06T19:58:06.168Z"
   },
   {
    "duration": 8,
    "start_time": "2022-12-06T19:58:06.176Z"
   },
   {
    "duration": 18,
    "start_time": "2022-12-06T19:58:06.186Z"
   },
   {
    "duration": 61,
    "start_time": "2022-12-06T19:58:06.205Z"
   },
   {
    "duration": 380,
    "start_time": "2022-12-06T19:58:06.268Z"
   },
   {
    "duration": 1663,
    "start_time": "2022-12-06T19:58:06.650Z"
   },
   {
    "duration": 3101,
    "start_time": "2022-12-06T19:58:08.315Z"
   },
   {
    "duration": 3650,
    "start_time": "2022-12-06T19:58:11.418Z"
   },
   {
    "duration": 36,
    "start_time": "2022-12-06T19:58:15.070Z"
   }
  ],
  "kernelspec": {
   "display_name": "Python 3 (ipykernel)",
   "language": "python",
   "name": "python3"
  },
  "language_info": {
   "codemirror_mode": {
    "name": "ipython",
    "version": 3
   },
   "file_extension": ".py",
   "mimetype": "text/x-python",
   "name": "python",
   "nbconvert_exporter": "python",
   "pygments_lexer": "ipython3",
   "version": "3.9.5"
  },
  "toc": {
   "base_numbering": 1,
   "nav_menu": {},
   "number_sections": true,
   "sideBar": true,
   "skip_h1_title": true,
   "title_cell": "Table of Contents",
   "title_sidebar": "Contents",
   "toc_cell": false,
   "toc_position": {},
   "toc_section_display": true,
   "toc_window_display": false
  }
 },
 "nbformat": 4,
 "nbformat_minor": 2
}
